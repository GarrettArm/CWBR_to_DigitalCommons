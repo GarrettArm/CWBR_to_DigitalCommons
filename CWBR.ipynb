{
 "cells": [
  {
   "cell_type": "markdown",
   "metadata": {},
   "source": [
    "# Civil War Book Review scratchpad\n",
    "\n",
    "https://www.reportlab.com/docs/reportlab-userguide.pdf\n",
    "\n"
   ]
  },
  {
   "cell_type": "code",
   "execution_count": 1,
   "metadata": {
    "collapsed": false
   },
   "outputs": [],
   "source": [
    "from collections import namedtuple\n",
    "import csv\n",
    "import os"
   ]
  },
  {
   "cell_type": "markdown",
   "metadata": {},
   "source": [
    "## Read the csvs"
   ]
  },
  {
   "cell_type": "code",
   "execution_count": 2,
   "metadata": {
    "collapsed": false,
    "scrolled": false
   },
   "outputs": [],
   "source": [
    "cwbr_dict = dict()\n",
    "\n",
    "def csv_to_dictionary(filename):\n",
    "    with open(filename, newline='', encoding='utf8') as csvfile:\n",
    "        csvreader = csv.reader(csvfile, delimiter=\"\\t\", quotechar='\"')\n",
    "        headers = next(csvreader)\n",
    "        CWBR = namedtuple('CWBR', headers)\n",
    "        for row in csvreader:\n",
    "            item = CWBR(*row)\n",
    "            cwbr_dict[item.ID] = item\n",
    "\n",
    "\n",
    "# Comment out the files you want to use\n",
    "\n",
    "for filename in (\n",
    "#                   'Split_Into_Types/Annotations_and_cousins.csv',\n",
    "#                   'Split_Into_Types/Review_Just_URL.csv',\n",
    "                  'Split_Into_Types/audio_supplemental.csv',\n",
    "                  'Split_Into_Types/Needs_Unpacking.csv',\n",
    "                  'Split_Into_Types/Main_set.csv',\n",
    "                  'Split_Into_Types/Reference_and_audio.csv',\n",
    "                  'Split_Into_Types/Review_no_text.csv',\n",
    "                  'Split_Into_Types/Simple_text.csv',\n",
    "                ):\n",
    "    csv_to_dictionary(filename)"
   ]
  },
  {
   "cell_type": "markdown",
   "metadata": {},
   "source": [
    "## Making the pdfs"
   ]
  },
  {
   "cell_type": "code",
   "execution_count": 3,
   "metadata": {
    "collapsed": false
   },
   "outputs": [],
   "source": [
    "from reportlab.lib.enums import TA_JUSTIFY, TA_CENTER\n",
    "from reportlab.platypus import SimpleDocTemplate, Paragraph, Spacer\n",
    "from reportlab.lib.styles import getSampleStyleSheet, ParagraphStyle\n",
    "from reportlab.lib.units import inch\n",
    "from reportlab.pdfgen import canvas\n",
    "from reportlab.lib.pagesizes import letter\n",
    "from reportlab.lib.units import inch"
   ]
  },
  {
   "cell_type": "code",
   "execution_count": 4,
   "metadata": {
    "collapsed": false,
    "scrolled": true
   },
   "outputs": [],
   "source": [
    "# styling the text\n",
    "\n",
    "styles=getSampleStyleSheet()\n",
    "styles.add(ParagraphStyle(name='Justify',\n",
    "                          fontName = 'Times-Roman',\n",
    "                          alignment=TA_JUSTIFY,\n",
    "                          firstLineIndent=25,\n",
    "                          fontSize = 14,\n",
    "                          leading = 17))\n",
    "\n",
    "styles.add(ParagraphStyle(name='TitleBig',\n",
    "                          fontName ='Times-Bold',\n",
    "                          alignment=TA_CENTER,\n",
    "                          fontSize = 14,\n",
    "                          leading = 22))\n",
    "\n",
    "styles.add(ParagraphStyle(name='SubTitleBig',\n",
    "                          fontName ='Times-Bold',\n",
    "                          alignment=TA_CENTER,\n",
    "                          fontSize = 14,\n",
    "                          leading = 18))\n",
    "\n",
    "styles.add(ParagraphStyle(name='AuthorBig',\n",
    "                          fontName ='Times-Bold',\n",
    "                          alignment = TA_CENTER,\n",
    "                          fontSize = 12,\n",
    "                          leading = 14))\n",
    "\n",
    "styles.add(ParagraphStyle(name='Citation',\n",
    "                          fontName = 'Times-Roman',\n",
    "                          alignment=TA_JUSTIFY,\n",
    "                          firstLineIndent=0,\n",
    "                          fontSize = 14,\n",
    "                          leading = 17))\n"
   ]
  },
  {
   "cell_type": "code",
   "execution_count": 5,
   "metadata": {
    "collapsed": false
   },
   "outputs": [],
   "source": [
    "# recipe for turning the data into pdf.\n",
    "\n",
    "\n",
    "def do_thing(uri):\n",
    "    issue = cwbr_dict[uri]\n",
    "    make_pdf(issue)\n",
    "\n",
    "def strip_breaks(text):\n",
    "    for i in (\"<br>\", \"</br>\", \"<p>\", \"</p>\", \"<BR>\", \"</BR>\", ):\n",
    "        text = text.replace(i, \"\")\n",
    "    return text\n",
    "   \n",
    "def make_pdf(issue):\n",
    "    os.makedirs('output', exist_ok=True)\n",
    "    doc = SimpleDocTemplate('output/{}.pdf'.format(issue.ID),\n",
    "                           pagesize=letter,\n",
    "                           rightMargin=72,\n",
    "                           leftMargin=72,\n",
    "                           topMargin=72,\n",
    "                           bottomMargin=50)\n",
    "\n",
    "    template = []\n",
    "    \n",
    "    title = issue.Headline\n",
    "    for item in title.split('<p>'):\n",
    "        if item:\n",
    "            p = Paragraph(item.upper(), styles[\"TitleBig\"])\n",
    "            template.append(p)\n",
    "    # template.append(Spacer(1,0.1*inch))\n",
    "    \n",
    "    subtitle = issue.Sub_headline\n",
    "    for item in subtitle.split('<p>'):\n",
    "        if item:\n",
    "            p = Paragraph(item, styles[\"SubTitleBig\"])\n",
    "            template.append(p)\n",
    "    template.append(Spacer(1, 0.3*inch))    \n",
    "    \n",
    "    if issue.Record_type != 'Editorial':\n",
    "        if issue.Record_type not in ('Review', 'Classics'): \n",
    "            for author in (issue.Auth_1, issue.Auth_2, issue.Auth_3):\n",
    "                author = author.replace('<br>', '<p>').replace('</br>', '</p>')\n",
    "                if author:\n",
    "                    p = Paragraph(author, styles[\"AuthorBig\"])\n",
    "                    template.append(p)\n",
    "            template.append(Spacer(1, 0.5*inch))\n",
    "        else:\n",
    "            if issue.Reviewer:\n",
    "                p = Paragraph(issue.Reviewer, styles[\"AuthorBig\"])\n",
    "                template.append(p)\n",
    "            template.append(Spacer(1, 0.5*inch))   \n",
    "\n",
    "\n",
    "        authors_list = [i for i in (issue.Auth_1, issue.Auth_2, issue.Auth_3) if i]\n",
    "        if len(authors_list) == 1:\n",
    "            authors = '<b>{}</b>'.format(authors_list[0])\n",
    "        elif len(authors_list) == 2:\n",
    "            authors = '<b>{} and {}.</b>'.format(authors_list[0], authors_list[1])\n",
    "        elif len(authors_list) == 3:\n",
    "            authors = '<b>{}, {}, and {}.</b>'.format(authors_list[0], authors_list[1], authors_list[2])\n",
    "        else:\n",
    "            authors = ''\n",
    "\n",
    "        book_title = \"<i>{}.</i>\".format(strip_breaks(issue.Title))\n",
    "\n",
    "        if issue.Publisher:\n",
    "            publisher = '{}, '.format(issue.Publisher)\n",
    "        else:\n",
    "            publisher = ''\n",
    "        if issue.Pub_date:\n",
    "            pub_date = '{}. '.format(issue.Pub_date)\n",
    "        else:\n",
    "            pub_date = ''\n",
    "        citation = '{} {} {}{}{}'.format(authors,\n",
    "                                         strip_breaks(book_title),\n",
    "                                         publisher,\n",
    "                                         pub_date,\n",
    "                                         strip_breaks(issue.Price),\n",
    "                                        )\n",
    "        if issue.ISBN:\n",
    "            citation += ' ISBN {}'.format(strip_breaks(issue.ISBN))\n",
    "        p = Paragraph(citation, styles[\"Citation\"])\n",
    "        template.append(p)\n",
    "        template.append(Spacer(1, 0.2*inch))\n",
    "    \n",
    "    list_of_paragraphs = issue.Review.replace('<br>', '<p>').replace('</br>', '</p>').split('<p>')\n",
    "    for item in list_of_paragraphs:\n",
    "        if item:\n",
    "            p = Paragraph(item, styles[\"Justify\"])\n",
    "            template.append(p)\n",
    "            template.append(Spacer(1, 0.2*inch))    \n",
    "                \n",
    "    doc.build(template)"
   ]
  },
  {
   "cell_type": "code",
   "execution_count": 6,
   "metadata": {
    "collapsed": false
   },
   "outputs": [],
   "source": [
    "# this makes a single item's pdf\n",
    "\n",
    "do_thing('1003')"
   ]
  },
  {
   "cell_type": "code",
   "execution_count": null,
   "metadata": {
    "collapsed": false
   },
   "outputs": [],
   "source": [
    "# this makes pdfs for all items in the loaded csvs\n",
    "\n",
    "for uri in cwbr_dict:\n",
    "    do_thing(uri)"
   ]
  },
  {
   "cell_type": "markdown",
   "metadata": {},
   "source": [
    "## Understanding the source data"
   ]
  },
  {
   "cell_type": "code",
   "execution_count": null,
   "metadata": {
    "collapsed": false
   },
   "outputs": [],
   "source": [
    "# how many items are in cwbr_dict, not counting 'interviews'?\n",
    "\n",
    "# count = 0\n",
    "# for k, v in cwbr_dict.items():\n",
    "#     if v.Record_type != \"Interview\":\n",
    "# #         print(v.ID, v.Record_type)\n",
    "#         count += 1\n",
    "# print(count)"
   ]
  },
  {
   "cell_type": "code",
   "execution_count": null,
   "metadata": {
    "collapsed": false
   },
   "outputs": [],
   "source": [
    "# which item has the longest Review\n",
    "\n",
    "# longest_item = ('', '')\n",
    "# for k, v in cwbr_dict.items():\n",
    "#     if len(v.Review) > len(longest_item[1]):\n",
    "#         longest_item = (k, v.Review)\n",
    "# print(longest_item[0])"
   ]
  },
  {
   "cell_type": "code",
   "execution_count": null,
   "metadata": {
    "collapsed": false
   },
   "outputs": [],
   "source": [
    "# Is 'Teaser' a shortened 'Title'?\n",
    "\n",
    "# def strip_and_replace(text):\n",
    "#     return text.strip().replace(\":\", \"\").replace(\".\", \"\").replace(\",\", \"\").replace('\"', '').replace(\"<p>\", \"\").lower().replace(' ', '')\n",
    "\n",
    "\n",
    "# inside, not_inside = 0, 0\n",
    "# for uid, issue in cwbr_dict.items():\n",
    "#     if issue.Teaser in issue.Title:\n",
    "#         inside += 1\n",
    "#     elif strip_and_replace(issue.Teaser[:-5]) in strip_and_replace(issue.Title):\n",
    "#         inside += 1\n",
    "#     else:\n",
    "#         not_inside += 1\n",
    "#         print(\"Teaser: {}\\nTitle: {}\\n\\n\".format(issue.Teaser, issue.Title))\n",
    "# print(inside, not_inside)"
   ]
  },
  {
   "cell_type": "code",
   "execution_count": null,
   "metadata": {
    "collapsed": false
   },
   "outputs": [],
   "source": [
    "# how many have Sub_headlines?  How do they Sub_headlines compare to Titles, Headlines?\n",
    "\n",
    "# count = 0\n",
    "# for uri, issue in cwbr_dict.items():\n",
    "#     if len(issue.Sub_headline):\n",
    "#         count += 1\n",
    "#         print(\"{}\\nS: {}\\nH: {}\\nT: {}\\n\\n\".format(uri, issue.Sub_headline, issue.Headline, issue.Title))\n",
    "# print(count)"
   ]
  },
  {
   "cell_type": "code",
   "execution_count": null,
   "metadata": {
    "collapsed": true
   },
   "outputs": [],
   "source": [
    "# How many have a Headline?  Are Headlines a shortened form of the Title?\n",
    "\n",
    "# count = 0\n",
    "# similar = 0\n",
    "# for uri, issue in cwbr_dict.items():\n",
    "#     if len(issue.Headline):\n",
    "#         count += 1\n",
    "#         if strip_and_replace(issue.Headline) in strip_and_replace(issue.Title):\n",
    "#             similar += 1\n",
    "#             print(\"{}\\nS: {}\\nH: {}\\nT: {}\\n\\n\".format(uri, issue.Sub_headline, issue.Headline, issue.Title))\n",
    "# print(count, similar)"
   ]
  },
  {
   "cell_type": "code",
   "execution_count": null,
   "metadata": {
    "collapsed": false
   },
   "outputs": [],
   "source": [
    "# items_with_metadata, items_without_metadata = 0, 0\n",
    "\n",
    "# for uri, item in cwbr_dict.items():\n",
    "#     if item.SubCategories or item.Metadata:\n",
    "#         items_with_metadata += 1\n",
    "#     else:\n",
    "#         items_without_metadata += 1\n",
    "# print(items_with_metadata, items_without_metadata)"
   ]
  },
  {
   "cell_type": "code",
   "execution_count": null,
   "metadata": {
    "collapsed": false
   },
   "outputs": [],
   "source": [
    "# what is our datastructure?  give an example\n",
    "\n",
    "# item = cwbr_dict['6115']\n",
    "# print(dir(item))\n",
    "# for field in item._fields:\n",
    "#     print(\"{}\\t\\t{}\".format(field, getattr(item, field)[:100]))"
   ]
  },
  {
   "cell_type": "code",
   "execution_count": null,
   "metadata": {
    "collapsed": false
   },
   "outputs": [],
   "source": [
    "# how many have a Teaser?  print all the Teasers to screen.\n",
    "\n",
    "# count = 0\n",
    "# for k, v in cwbr_dict.items():\n",
    "#     if len(v.Teaser):\n",
    "#         count += 1\n",
    "#         print(v.Teaser)\n",
    "# print(count)"
   ]
  },
  {
   "cell_type": "code",
   "execution_count": null,
   "metadata": {
    "collapsed": true
   },
   "outputs": [],
   "source": []
  }
 ],
 "metadata": {
  "anaconda-cloud": {},
  "kernelspec": {
   "display_name": "Python [default]",
   "language": "python",
   "name": "python3"
  },
  "language_info": {
   "codemirror_mode": {
    "name": "ipython",
    "version": 3
   },
   "file_extension": ".py",
   "mimetype": "text/x-python",
   "name": "python",
   "nbconvert_exporter": "python",
   "pygments_lexer": "ipython3",
   "version": "3.5.2"
  }
 },
 "nbformat": 4,
 "nbformat_minor": 1
}
