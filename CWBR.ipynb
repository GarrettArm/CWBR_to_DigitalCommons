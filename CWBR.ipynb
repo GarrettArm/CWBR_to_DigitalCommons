{
 "cells": [
  {
   "cell_type": "markdown",
   "metadata": {},
   "source": [
    "# Civil War Book Review scratchpad\n",
    "\n",
    "https://www.reportlab.com/docs/reportlab-userguide.pdf\n",
    "\n"
   ]
  },
  {
   "cell_type": "code",
   "execution_count": 1,
   "metadata": {
    "collapsed": false
   },
   "outputs": [],
   "source": [
    "from collections import namedtuple\n",
    "import csv\n",
    "import re\n",
    "import os"
   ]
  },
  {
   "cell_type": "code",
   "execution_count": 2,
   "metadata": {
    "collapsed": false
   },
   "outputs": [],
   "source": [
    "cwbr_dict = dict()\n",
    "\n",
    "# name the file you wish to examine [Split_Into_Types/---------.csv]\n",
    "def csv_to_dictionary(filename):\n",
    "    with open(filename, newline='') as csvfile:\n",
    "        csvreader = csv.reader(csvfile, delimiter=\"\\t\", quotechar='\"')\n",
    "        headers = next(csvreader)\n",
    "        CWBR = namedtuple('CWBR', headers)\n",
    "        for row in csvreader:\n",
    "            item = CWBR(*row)\n",
    "            cwbr_dict[item.ID] = item\n",
    "            \n",
    "for filename in (\n",
    "#                   'Split_Into_Types/Annotations_and_cousins.csv',\n",
    "                  'Split_Into_Types/audio_supplemental.csv',\n",
    "                  'Split_Into_Types/Needs_Unpacking.csv',\n",
    "                  'Split_Into_Types/Main_set.csv',\n",
    "                  'Split_Into_Types/Reference_and_audio.csv',\n",
    "                  'Split_Into_Types/Review_no_text.csv',\n",
    "                  'Split_Into_Types/Simple_text.csv',\n",
    "#                   'Split_Into_Types/Review_Just_URL.csv',\n",
    "                ):\n",
    "    csv_to_dictionary(filename)"
   ]
  },
  {
   "cell_type": "code",
   "execution_count": 3,
   "metadata": {
    "collapsed": false
   },
   "outputs": [
    {
     "name": "stdout",
     "output_type": "stream",
     "text": [
      "1735\n"
     ]
    }
   ],
   "source": [
    "count = 0\n",
    "for k, v in cwbr_dict.items():\n",
    "    if v.Record_type != \"Interview\":\n",
    "#         print(v.ID, v.Record_type)\n",
    "        count += 1\n",
    "print(count)"
   ]
  },
  {
   "cell_type": "code",
   "execution_count": 4,
   "metadata": {
    "collapsed": false
   },
   "outputs": [
    {
     "name": "stdout",
     "output_type": "stream",
     "text": [
      "3454\n"
     ]
    }
   ],
   "source": [
    "# prints the item with the longest Review\n",
    "\n",
    "longest_item = ('', '')\n",
    "for k, v in cwbr_dict.items():\n",
    "    if len(v.Review) > len(longest_item[1]):\n",
    "        longest_item = (k, v.Review)\n",
    "print(longest_item[0])"
   ]
  },
  {
   "cell_type": "code",
   "execution_count": 5,
   "metadata": {
    "collapsed": false
   },
   "outputs": [],
   "source": [
    "def strip_and_replace(text):\n",
    "    return text.strip().replace(\":\", \"\").replace(\".\", \"\").replace(\",\", \"\").replace('\"', '').replace(\"<p>\", \"\").lower().replace(' ', '')\n",
    "\n",
    "inside, not_inside = 0, 0\n",
    "for uid, issue in cwbr_dict.items():\n",
    "    if issue.Teaser in issue.Title:\n",
    "        inside += 1\n",
    "    elif strip_and_replace(issue.Teaser[:-5]) in strip_and_replace(issue.Title):\n",
    "        inside += 1\n",
    "    else:\n",
    "        not_inside += 1\n",
    "        \n",
    "#       is Teaser a subset of Title??\n",
    "#         print(\"Teaser: {}\\nTitle: {}\\n\\n\".format(issue.Teaser, issue.Title))\n",
    "# print(inside, not_inside)"
   ]
  },
  {
   "cell_type": "code",
   "execution_count": 6,
   "metadata": {
    "collapsed": false
   },
   "outputs": [],
   "source": [
    "# how many have Sub_headlines?  How do they Sub_headlines compare to Titles, Headlines?\n",
    "\n",
    "count = 0\n",
    "for uri, issue in cwbr_dict.items():\n",
    "    if len(issue.Sub_headline):\n",
    "        count += 1\n",
    "#         print(\"{}\\nS: {}\\nH: {}\\nT: {}\\n\\n\".format(uri, issue.Sub_headline, issue.Headline, issue.Title))\n",
    "# print(count)"
   ]
  },
  {
   "cell_type": "code",
   "execution_count": 7,
   "metadata": {
    "collapsed": true
   },
   "outputs": [],
   "source": [
    "# How many have a Headline?  Are Headlines a shortened form of the Title?\n",
    "\n",
    "count = 0\n",
    "similar = 0\n",
    "for uri, issue in cwbr_dict.items():\n",
    "    if len(issue.Headline):\n",
    "        count += 1\n",
    "        if strip_and_replace(issue.Headline) in strip_and_replace(issue.Title):\n",
    "            similar += 1\n",
    "#             print(\"{}\\nS: {}\\nH: {}\\nT: {}\\n\\n\".format(uri, issue.Sub_headline, issue.Headline, issue.Title))\n",
    "# print(count, similar)"
   ]
  },
  {
   "cell_type": "code",
   "execution_count": 8,
   "metadata": {
    "collapsed": false
   },
   "outputs": [
    {
     "name": "stdout",
     "output_type": "stream",
     "text": [
      "109 1697\n"
     ]
    }
   ],
   "source": [
    "items_with_metadata, items_without_metadata = 0, 0\n",
    "\n",
    "for uri, item in cwbr_dict.items():\n",
    "    if item.SubCategories or item.Metadata:\n",
    "        items_with_metadata += 1\n",
    "    else:\n",
    "        items_without_metadata += 1\n",
    "print(items_with_metadata, items_without_metadata)"
   ]
  },
  {
   "cell_type": "code",
   "execution_count": 9,
   "metadata": {
    "collapsed": false
   },
   "outputs": [],
   "source": [
    "# what is our datastructure?  give an example\n",
    "\n",
    "# item = cwbr_dict['6115']\n",
    "# print(dir(item))\n",
    "# for field in item._fields:\n",
    "#     print(\"{}\\t\\t{}\".format(field, getattr(item, field)[:100]))"
   ]
  },
  {
   "cell_type": "code",
   "execution_count": 10,
   "metadata": {
    "collapsed": false
   },
   "outputs": [],
   "source": [
    "# how many have a Teaser?  print all the Teasers to screen.\n",
    "\n",
    "count = 0\n",
    "for k, v in cwbr_dict.items():\n",
    "    if len(v.Teaser):\n",
    "        count += 1\n",
    "#         print(v.Teaser)\n",
    "# print(count)"
   ]
  },
  {
   "cell_type": "code",
   "execution_count": 11,
   "metadata": {
    "collapsed": true
   },
   "outputs": [],
   "source": [
    "from reportlab.lib.enums import TA_JUSTIFY, TA_CENTER\n",
    "from reportlab.platypus import SimpleDocTemplate, Paragraph, Spacer\n",
    "from reportlab.lib.styles import getSampleStyleSheet, ParagraphStyle\n",
    "from reportlab.lib.units import inch\n",
    "from reportlab.pdfgen import canvas\n",
    "from reportlab.lib.pagesizes import letter\n",
    "from reportlab.lib.units import inch"
   ]
  },
  {
   "cell_type": "code",
   "execution_count": 12,
   "metadata": {
    "collapsed": false,
    "scrolled": true
   },
   "outputs": [],
   "source": [
    "# a styling with justified lines & indentation of some number of points.\n",
    "\n",
    "styles=getSampleStyleSheet()\n",
    "styles.add(ParagraphStyle(name='Justify',\n",
    "                          fontName = 'Times-Roman',\n",
    "                          alignment=TA_JUSTIFY,\n",
    "                          firstLineIndent=25,\n",
    "                          fontSize = 14,\n",
    "                          leading = 17))\n",
    "\n",
    "styles.add(ParagraphStyle(name='TitleBig',\n",
    "                          fontName ='Times-Bold',\n",
    "                          alignment=TA_CENTER,\n",
    "                          fontSize = 14,\n",
    "                          leading = 22))\n",
    "\n",
    "styles.add(ParagraphStyle(name='SubTitleBig',\n",
    "                          fontName ='Times-Bold',\n",
    "                          alignment=TA_CENTER,\n",
    "                          fontSize = 14,\n",
    "                          leading = 18))\n",
    "\n",
    "styles.add(ParagraphStyle(name='AuthorBig',\n",
    "                          fontName ='Times-Bold',\n",
    "                          alignment = TA_CENTER,\n",
    "                          fontSize = 12,\n",
    "                          leading = 14))\n",
    "\n",
    "styles.add(ParagraphStyle(name='Citation',\n",
    "                          fontName = 'Times-Roman',\n",
    "                          alignment=TA_JUSTIFY,\n",
    "                          firstLineIndent=0,\n",
    "                          fontSize = 14,\n",
    "                          leading = 17))\n"
   ]
  },
  {
   "cell_type": "code",
   "execution_count": 13,
   "metadata": {
    "collapsed": false
   },
   "outputs": [],
   "source": [
    "# print(cwbr_dict['6048'])"
   ]
  },
  {
   "cell_type": "code",
   "execution_count": 14,
   "metadata": {
    "collapsed": false
   },
   "outputs": [],
   "source": [
    "# script to turn the html into a pdf.  \n",
    "# several different variations are included, to challenge our dataset -- to see which have errors.\n",
    "\n",
    "# This one crashes on the first failure.\n",
    "\n",
    "\n",
    "def do_thing(uri):\n",
    "    issue = cwbr_dict[uri]\n",
    "    make_pdf(issue)\n",
    "\n",
    "def strip_breaks(text):\n",
    "    for i in (\"<br>\", \"</br>\", \"<p>\", \"</p>\", \"<BR>\", \"</BR>\", ):\n",
    "        text = text.replace(i, \"\")\n",
    "    return text\n",
    "        \n",
    "        \n",
    "def make_pdf(issue):\n",
    "    doc = SimpleDocTemplate('output/{}.pdf'.format(issue.ID),\n",
    "                           pagesize=letter,\n",
    "                           rightMargin=72,\n",
    "                           leftMargin=72,\n",
    "                           topMargin=72,\n",
    "                           bottomMargin=50)\n",
    "\n",
    "    template = []\n",
    "    \n",
    "    title = issue.Headline\n",
    "    for item in title.split('<p>'):\n",
    "        if item:\n",
    "            p = Paragraph(item.upper(), styles[\"TitleBig\"])\n",
    "            template.append(p)\n",
    "#     template.append(Spacer(1,0.1*inch))\n",
    "    \n",
    "    subtitle = issue.Sub_headline\n",
    "    for item in subtitle.split('<p>'):\n",
    "        if item:\n",
    "            p = Paragraph(item, styles[\"SubTitleBig\"])\n",
    "            template.append(p)\n",
    "    template.append(Spacer(1, 0.3*inch))    \n",
    "    \n",
    "    if issue.Record_type != 'Editorial':\n",
    "        if issue.Record_type not in ('Review', 'Classics'): \n",
    "            for author in (issue.Auth_1, issue.Auth_2, issue.Auth_3):\n",
    "                author = author.replace('<br>', '<p>').replace('</br>', '</p>')\n",
    "                if author:\n",
    "                    p = Paragraph(author, styles[\"AuthorBig\"])\n",
    "                    template.append(p)\n",
    "            template.append(Spacer(1, 0.5*inch))\n",
    "        else:\n",
    "            if issue.Reviewer:\n",
    "                p = Paragraph(issue.Reviewer, styles[\"AuthorBig\"])\n",
    "                template.append(p)\n",
    "            template.append(Spacer(1, 0.5*inch))   \n",
    "\n",
    "\n",
    "        authors_list = [i for i in (issue.Auth_1, issue.Auth_2, issue.Auth_3) if i]\n",
    "        if len(authors_list) == 1:\n",
    "            authors = '<b>{}</b>'.format(authors_list[0])\n",
    "        elif len(authors_list) == 2:\n",
    "            authors = '<b>{} and {}.</b>'.format(authors_list[0], authors_list[1])\n",
    "        elif len(authors_list) == 3:\n",
    "            authors = '<b>{}, {}, and {}.</b>'.format(authors_list[0], authors_list[1], authors_list[2])\n",
    "        else:\n",
    "            authors = ''\n",
    "\n",
    "        book_title = \"<i>{}.</i>\".format(strip_breaks(issue.Title))\n",
    "\n",
    "        if issue.Publisher:\n",
    "            publisher = '{}, '.format(issue.Publisher)\n",
    "        else:\n",
    "            publisher = ''\n",
    "        if issue.Pub_date:\n",
    "            pub_date = '{}. '.format(issue.Pub_date)\n",
    "        else:\n",
    "            pub_date = ''\n",
    "        citation = '{} {} {}{}{}'.format(authors,\n",
    "                                         strip_breaks(book_title),\n",
    "                                         publisher,\n",
    "                                         pub_date,\n",
    "                                         strip_breaks(issue.Price),\n",
    "                                        )\n",
    "        if issue.ISBN:\n",
    "            citation += ' ISBN {}'.format(strip_breaks(issue.ISBN))\n",
    "        p = Paragraph(citation, styles[\"Citation\"])\n",
    "        template.append(p)\n",
    "        template.append(Spacer(1, 0.2*inch))\n",
    "    \n",
    "    list_of_paragraphs = issue.Review.replace('<br>', '<p>').replace('</br>', '</p>').split('<p>')\n",
    "    for item in list_of_paragraphs:\n",
    "        if item:\n",
    "            p = Paragraph(item, styles[\"Justify\"])\n",
    "            template.append(p)\n",
    "            template.append(Spacer(1, 0.2*inch))    \n",
    "                \n",
    "    doc.build(template)"
   ]
  },
  {
   "cell_type": "code",
   "execution_count": 15,
   "metadata": {
    "collapsed": false
   },
   "outputs": [],
   "source": [
    "do_thing('1003')"
   ]
  },
  {
   "cell_type": "code",
   "execution_count": 16,
   "metadata": {
    "collapsed": true
   },
   "outputs": [],
   "source": [
    "# This one logs which ones fail, then continues to the next one.\n",
    "\n",
    "def do_thing_log_fails(uri):\n",
    "    try:\n",
    "        do_thing(uri)\n",
    "    except:\n",
    "        failed.append(uri)"
   ]
  },
  {
   "cell_type": "code",
   "execution_count": 17,
   "metadata": {
    "collapsed": false
   },
   "outputs": [],
   "source": [
    "# this runs all the items in the loaded csv, with logging fails into a list called \"failed\".\n",
    "\n",
    "failed = []\n",
    "\n",
    "for uri in cwbr_dict:\n",
    "    do_thing_log_fails(uri)"
   ]
  },
  {
   "cell_type": "code",
   "execution_count": 18,
   "metadata": {
    "collapsed": false
   },
   "outputs": [
    {
     "name": "stdout",
     "output_type": "stream",
     "text": [
      "[]\n",
      "0 1806 None 0.0%\n"
     ]
    }
   ],
   "source": [
    "# prints how many failed, how many are in the loaded csv, and what percent failed.\n",
    "\n",
    "print(len(failed),\n",
    "      len(cwbr_dict),\n",
    "      print(failed),\n",
    "      '{}%'.format(len(failed)/len(cwbr_dict)//.01))\n"
   ]
  },
  {
   "cell_type": "code",
   "execution_count": 19,
   "metadata": {
    "collapsed": false
   },
   "outputs": [
    {
     "name": "stdout",
     "output_type": "stream",
     "text": [
      "0\n"
     ]
    }
   ],
   "source": [
    "import sys\n",
    "\n",
    "extra_closed_tag = []\n",
    "parse_error = []\n",
    "\n",
    "for uri in failed:\n",
    "    try:\n",
    "        do_thing(uri)\n",
    "    except Exception:\n",
    "        parse_error.append((uri, sys.exc_info()))\n",
    "\n",
    "\n",
    "print(len(failed))\n",
    "# print(failed)\n",
    "if parse_error:\n",
    "    print(parse_error[0])\n",
    "\n",
    "# with open('exception.txt', 'w') as f:\n",
    "#     output_text = ''\n",
    "#     for item in parse_error:\n",
    "#         output_text += '{}\\n'.format(item)\n",
    "#     f.write(output_text)\n",
    "\n"
   ]
  },
  {
   "cell_type": "code",
   "execution_count": 20,
   "metadata": {
    "collapsed": false,
    "scrolled": true
   },
   "outputs": [],
   "source": [
    "# this identifies 3 causes of errors in parsing the data -- and a Leftovers group for items with unknown error\n",
    "\n",
    "Review_starts_with_url = []\n",
    "Review_starts_with_image = []\n",
    "Review_starts_with_header_url = []\n",
    "Leftovers = []\n",
    "\n",
    "\n",
    "for item in parse_error:\n",
    "#     if item[0] in Other_breaking_types:\n",
    "#         continue\n",
    "    if \"<para><a href=\" in item[1][1].args[0]:\n",
    "        Review_starts_with_url.append(item)\n",
    "    elif \"<para><img \" in item[1][1].args[0]:\n",
    "        Review_starts_with_image.append(item)\n",
    "    elif \"<para><h3><a href=\" in item[1][1].args[0]:\n",
    "        Review_starts_with_header_url.append(item)\n",
    "    else:\n",
    "        Leftovers.append(item)"
   ]
  },
  {
   "cell_type": "code",
   "execution_count": 21,
   "metadata": {
    "collapsed": false,
    "scrolled": true
   },
   "outputs": [],
   "source": [
    "items = ''\n",
    "for k, v  in cwbr_dict.items():\n",
    "    items = items + '{}: {},'.format(k, v.Record_type)\n",
    "# print(items)"
   ]
  },
  {
   "cell_type": "code",
   "execution_count": 22,
   "metadata": {
    "collapsed": false
   },
   "outputs": [
    {
     "name": "stdout",
     "output_type": "stream",
     "text": [
      "failed: 0 \n",
      " parse_error 0 \n",
      " Review_starts_with_url 0 \n",
      " Review_starts_with_header_url 0 \n",
      " Review_starts_with_image: 0 \n",
      " Remainder 0 \n",
      " Leftovers 0 \n",
      "\n",
      "[]\n"
     ]
    }
   ],
   "source": [
    "# prints the number of items in each category.  You want the numbers to end up \"0\" eventually.\n",
    "\n",
    "print(\"failed:\", len(failed), '\\n',\n",
    "      \"parse_error\", len(parse_error), '\\n',\n",
    "      \"Review_starts_with_url\", len(Review_starts_with_url), '\\n',\n",
    "      \"Review_starts_with_header_url\", len(Review_starts_with_header_url), '\\n',\n",
    "      \"Review_starts_with_image:\", len(Review_starts_with_image), \"\\n\",\n",
    "      \"Remainder\", len(parse_error)-len(Review_starts_with_url)-len(Review_starts_with_header_url), '\\n',\n",
    "      \"Leftovers\", len(Leftovers), '\\n',) \n",
    "\n",
    "print(sorted(failed))"
   ]
  },
  {
   "cell_type": "code",
   "execution_count": 23,
   "metadata": {
    "collapsed": false
   },
   "outputs": [],
   "source": [
    "# this command is useful now for finding the error in each 'nnnn' listed above.  The error is in the last printed line.\n",
    "\n",
    "# do_thing_print_fails('4244')"
   ]
  },
  {
   "cell_type": "code",
   "execution_count": 24,
   "metadata": {
    "collapsed": false,
    "scrolled": true
   },
   "outputs": [
    {
     "name": "stdout",
     "output_type": "stream",
     "text": [
      "{'': 0, 'Review': 0, 'Annotation': 0, 'Interview': 0, 'Classics': 0}\n"
     ]
    }
   ],
   "source": [
    "# to see if all of an error type occur in one Record_type.\n",
    "# replace Review_starts_with_image with whatever error you wish to examine.\n",
    "\n",
    "url_starts = {\"Annotation\": 0, \"Classics\": 0, \"Review\": 0, \"\": 0, \"Interview\": 0}\n",
    "for i in Review_starts_with_image:\n",
    "    url_starts[cwbr_dict[i[0]].Record_type] += 1\n",
    "\n",
    "if Review_starts_with_image:\n",
    "    print(Review_starts_with_image[0])\n",
    "    \n",
    "print(url_starts)\n",
    "    "
   ]
  },
  {
   "cell_type": "code",
   "execution_count": null,
   "metadata": {
    "collapsed": true
   },
   "outputs": [],
   "source": []
  },
  {
   "cell_type": "code",
   "execution_count": null,
   "metadata": {
    "collapsed": false
   },
   "outputs": [],
   "source": [
    "\n",
    "\n"
   ]
  },
  {
   "cell_type": "code",
   "execution_count": null,
   "metadata": {
    "collapsed": true
   },
   "outputs": [],
   "source": []
  },
  {
   "cell_type": "code",
   "execution_count": 25,
   "metadata": {
    "collapsed": false
   },
   "outputs": [],
   "source": [
    "# dir(cwbr_dict['4053'])\n"
   ]
  },
  {
   "cell_type": "code",
   "execution_count": 26,
   "metadata": {
    "collapsed": false
   },
   "outputs": [],
   "source": [
    "# Script for scraping images listed in csvs\n",
    "\n",
    "broken_links = ['http://www.cwbr.com/civilwarbookreview/images/jackets/TheLeadershipOfUlyssesSGrant.jpg',\n",
    "                'http://www.cwbr.com/civilwarbookreview/images/jackets/BerryAllthatMakesaMan.jpg',\n",
    "                'http://www.cwbr.com/civilwarbookreview/images/jackets/Canaan.jpg',\n",
    "                'http://www.cwbr.com/civilwarbookreview/images/jackets/tintern.jpg',\n",
    "                'http://www.cwbr.com/civilwarbookreview/images/jackets/HLHunley.jpg',\n",
    "                'http://www.cwbr.com/civilwarbookreview/images/jackets/McPhersonDaysofDestiny.jpg',\n",
    "                'http://www.cwbr.com/civilwarbookreview/images/jackets/EdwardsShelbysExpedition.jpg',\n",
    "                'http://www.cwbr.com/civilwarbookreview/images/jackets/OutOfTheHouseOfBondage.jpg',\n",
    "                'http://www.cwbr.com/civilwarbookreview/images/jackets/RobertLee.jpg',\n",
    "                'http://www.cwbr.com/civilwarbookreview/images/jackets/WelfareAndCharity.jpg',\n",
    "                'http://www.cwbr.com/civilwarbookreview/images/jackets/ColonelsInBlue.jpg',\n",
    "                'http://www.cwbr.com/civilwarbookreview/images/jackets/TheOzarks.jpg',\n",
    "                'http://www.cwbr.com/civilwarbookreview/images/jackets/UpcountrySouthCarolinaGoesToWar.jpg',\n",
    "                'http://www.cwbr.com/civilwarbookreview/images/jackets/TheBattleOfPickettsMill.jpg',\n",
    "                'http://www.cwbr.com/civilwarbookreview/images/jackets/BurningRailsAsWePleased.jpg',\n",
    "                'http://www.cwbr.com/civilwarbookreview/images/jackets/SexSicknessandSlavery.jpg',\n",
    "                'http://www.cwbr.com/civilwarbookreview/images/jackets/QuantrillInTexas.jpg',\n",
    "                'http://www.cwbr.com/civilwarbookreview/images/jackets/OutOfTheMouthOfHell.jpg',\n",
    "                'http://www.cwbr.com/civilwarbookreview/images/jackets/FlagsCivilwarMissouri.jpg',\n",
    "                'http://www.cwbr.com/civilwarbookreview/images/jackets/HorsesandMules.jpg',\n",
    "                'http://www.cwbr.com/civilwarbookreview/images/jackets/LastToLeaveTheField.jpg',\n",
    "                'http://www.cwbr.com/civilwarbookreview/images/jackets/QueenOfTheConfederacy.jpg',\n",
    "                \"http://www.cwbr.com/civilwarbookreview/images/jackets/PrinceGeorge'sCountry.jpg\",\n",
    "                'http://www.cwbr.com/civilwarbookreview/images/jackets/CivilWarRevolvers.jpg',\n",
    "                'http://www.cwbr.com/civilwarbookreview/images/jackets/TheWilmington&WeldonRailroadInTheCivilWar.jpg',\n",
    "                'http://www.cwbr.com/civilwarbookreview/images/jackets/CivilWarSoldiersOfGreaterCleveland.jpg',\n",
    "                'http://www.cwbr.com/civilwarbookreview/images/jackets/LeesCavalrymen.jpg',\n",
    "                'http://www.cwbr.com/civilwarbookreview/images/jackets/GettingUsedToBeingShotAt.jpg',\n",
    "                'http://www.cwbr.com/civilwarbookreview/images/jackets/LifeandLabor.jpg',\n",
    "                'http://www.cwbr.com/civilwarbookreview/images/jackets/TheSeventhStarOfTheConfederacy.jpg',\n",
    "                'http://www.cwbr.com/civilwarbookreview/images/jackets/ARegimentOfSlaves.jpg',\n",
    "                'http://www.cwbr.com/civilwarbookreview/images/jackets/AcountryRiven.jpg',\n",
    "                'http://www.cwbr.com/civilwarbookreview/images/jackets/RebelsandRunaways.jpg',\n",
    "                'http://www.cwbr.com/civilwarbookreview/images/jackets/FloridasMonuments.jpg',\n",
    "                'http://www.cwbr.com/civilwarbookreview/images/jackets/KallenUndergroundRailroad.jpg',\n",
    "                'http://www.cwbr.com/civilwarbookreview/images/jackets/OpticTheBlueandTheGray.jpg',\n",
    "                'http://www.cwbr.com/civilwarbookreview/images/jackets/BrianThomsenAlternateGettysburg.jpg',\n",
    "                'http://www.cwbr.com/civilwarbookreview/images/jackets/VoicesFromCompanyD.jpg',\n",
    "                'http://www.cwbr.com/civilwarbookreview/images/jackets/GarlandTrailMakers.jpg',\n",
    "                'http://www.cwbr.com/civilwarbookreview/images/jackets/DurkinTheLastMan.jpg',\n",
    "                'http://www.cwbr.com/civilwarbookreview/images/jackets/NeitherLadynorSlave.jpg',\n",
    "               ]\n",
    "\n",
    "\n",
    "\n",
    "\n",
    "import urllib.request\n",
    "import os\n",
    "\n",
    "imagepath_regex = re.compile('src=\"(?P<path>[\\S]+)\"')\n",
    "\n",
    "def find_img_url(image_text):\n",
    "    imagepath = imagepath_regex.search(image_text)\n",
    "    webpath = imagepath.group('path')\n",
    "    url = 'http://www.cwbr.com{}'.format(webpath)\n",
    "    return url\n",
    "\n",
    "\n",
    "for urn, pack in cwbr_dict.items():\n",
    "    images = [pack.Image, pack.Image2, pack.Image3, pack.Image4, pack.Image5]\n",
    "    image_urls = [find_img_url(i) for i in images if i]\n",
    "    for image_url in image_urls:\n",
    "        os.makedirs('images/{}'.format(urn), exist_ok=True)\n",
    "        filepath = 'images/{}/{}'.format(urn, image_url.split('/')[-1])      \n",
    "        if os.path.isfile(filepath):\n",
    "            continue\n",
    "        if image_url in broken_links:\n",
    "            print(image_url)\n",
    "            continue\n",
    "        with urllib.request.urlopen(image_url) as response:\n",
    "            binary = response.read()\n",
    "        with open(filepath, 'bw') as f:\n",
    "\n",
    "            f.write(binary)"
   ]
  },
  {
   "cell_type": "code",
   "execution_count": 27,
   "metadata": {
    "collapsed": false
   },
   "outputs": [],
   "source": [
    "# scraping audio\n",
    "\n",
    "import urllib.request\n",
    "import os\n",
    "\n",
    "audiopath_regex = re.compile('<a href=\"(?P<path>[\\S]+)\"')\n",
    "\n",
    "def find_audio_url(audio1_text):\n",
    "    audiopath = audiopath_regex.search(audio1_text)\n",
    "    webpath = audiopath.group('path')\n",
    "    url = 'http://www.cwbr.com/{}'.format(webpath)\n",
    "    return url\n",
    "\n",
    "\n",
    "for urn, pack in cwbr_dict.items():\n",
    "    if pack.Audio1:\n",
    "        os.makedirs('audio/{}'.format(urn), exist_ok=True)\n",
    "        audio_url = find_audio_url(pack.Audio1)\n",
    "        filepath = 'audio/{}/{}'.format(urn, os.path.split(audio_url)[-1]) \n",
    "        if os.path.isfile(filepath):\n",
    "            continue\n",
    "        if pack.Audio1 in broken_links:\n",
    "            print(pack.Audio1)\n",
    "            continue\n",
    "\n",
    "        with urllib.request.urlopen(audio_url) as response:\n",
    "            binary = response.read()\n",
    "        with open(filepath, 'bw') as f:\n",
    "            f.write(binary)"
   ]
  },
  {
   "cell_type": "code",
   "execution_count": 28,
   "metadata": {
    "collapsed": false
   },
   "outputs": [
    {
     "name": "stdout",
     "output_type": "stream",
     "text": [
      "5437 <a href=\"audio/LongInterview.mp3\" target=\"_blank\"></a>\n",
      "4395 <a href=\"audio/SlotkinInterview.mp3\" target=\"_blank\"></a>\n",
      "4900 <a href=\"audio/GallagherInterview.mp3\" target=\"_blank\"></a>\n",
      "5284 <a href=\"audio/CooperInterviewSecession.mp3\" target=\"_blank\"></a>\n",
      "5122 <a href=\"audio/EtchesonInterview.mp3\" target=\"_blank\"></a>\n",
      "6306 <a href=\"audio/2016finalcwbrstiles.mp3\" target=\"_blank\"></a>\n",
      "6173 <a href=\"audio/BerlinInterview.mp3\" target=\"_blank\"></a>\n",
      "4827 <a href=\"audio/MarshallInterview.mp3\" target=\"_blank\"></a>\n",
      "4566 <a href=\"audio/SamitoInterview\" target=\"_blank\"></a>\n",
      "4481 <a href=\"audio/FordInterview.mp3\" target=\"_blank\"></a>\n",
      "5512 <a href=\"audio/KantrowitzInterview.mp3\" target=\"_blank\"></a>\n",
      "5668 <a href=\"audio/VaronInterview.mp3\" target=\"_blank\">Click here for the audio version of the interview</a>\n",
      "4053 <a href=\"audio/CooperInterview.mp3\" target=\"_blank\"></a>\n",
      "5362 <a href=\"audio/OakesInterview.mp3\" target=\"_blank\"></a>\n",
      "5986 <a href=\"audio/WarrenInterview.mp3\" target=\"_blank\"></a>\n",
      "5864 <a href=\"audio/KingInterviewEdit.mp3\" target=\"_blank\"></a>\n",
      "5207 <a href=\"audio/HessInterview.mp3\" target=\"_blank\"></a>\n",
      "4327 <a href=\"audio/BonnerInterview.mp3\" target=\"_blank\"></a>\n",
      "4245 <a href=\"audio/EscottInterview.mp3\" target=\"_blank\"></a>\n",
      "4637 <a href=\"audio/NoeInterview.mp3\" target=\"_blank\"></a>\n",
      "6113 <a href=\"audio/HustonInterview.mp3\" target=\"_blank\"></a>\n",
      "4970 <a href=\"audio/FonerInterview.mp3\" target=\"_blank\"></a>\n",
      "6048 <a href=\"audio/BCMillerInterview.mp3\" target=\"_blank\"></a>\n",
      "6240 <a href=\"audio/StricklandInterview.mp3\" target=\"_blank\"></a>\n",
      "5801 <a href=\"audio/SheldonInterview.mp3\" target=\"_blank\"></a>\n",
      "5737 <a href=\"audio/MeierInterview.mp3\" target=\"_blank\"></a>\n",
      "4755 <a href=\"audio/RableInterview.mp3\" target=\"_blank\"></a>\n",
      "5928 <a href=\"audio/RubinInterview.mp3\" target=\"_blank\"></a>\n",
      "5041 <a href=\"audio/ArensonInterview.mp3\" target=\"_blank\"></a>\n"
     ]
    }
   ],
   "source": [
    "for urn, pack in cwbr_dict.items():\n",
    "    for field in pack:\n",
    "        if 'audio/' in field:\n",
    "            print(urn, field)"
   ]
  },
  {
   "cell_type": "code",
   "execution_count": null,
   "metadata": {
    "collapsed": false
   },
   "outputs": [],
   "source": []
  },
  {
   "cell_type": "code",
   "execution_count": null,
   "metadata": {
    "collapsed": true
   },
   "outputs": [],
   "source": []
  }
 ],
 "metadata": {
  "kernelspec": {
   "display_name": "Python 3",
   "language": "python",
   "name": "python3"
  },
  "language_info": {
   "codemirror_mode": {
    "name": "ipython",
    "version": 3
   },
   "file_extension": ".py",
   "mimetype": "text/x-python",
   "name": "python",
   "nbconvert_exporter": "python",
   "pygments_lexer": "ipython3",
   "version": "3.5.2"
  }
 },
 "nbformat": 4,
 "nbformat_minor": 1
}
