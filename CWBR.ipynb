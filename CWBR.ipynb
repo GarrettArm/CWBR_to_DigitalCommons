{
 "cells": [
  {
   "cell_type": "markdown",
   "metadata": {},
   "source": [
    "# Civil War Book Review scratchpad\n",
    "\n",
    "https://www.reportlab.com/docs/reportlab-userguide.pdf\n",
    "\n"
   ]
  },
  {
   "cell_type": "code",
   "execution_count": 29,
   "metadata": {
    "collapsed": false
   },
   "outputs": [],
   "source": [
    "from collections import namedtuple\n",
    "import csv\n",
    "import re\n",
    "import os"
   ]
  },
  {
   "cell_type": "code",
   "execution_count": 50,
   "metadata": {
    "collapsed": false
   },
   "outputs": [],
   "source": [
    "cwbr_dict = dict()\n",
    "\n",
    "# name the file you wish to examine [Split_Into_Types/---------.csv]\n",
    "def csv_to_dictionary(filename):\n",
    "    with open(filename, newline='') as csvfile:\n",
    "        csvreader = csv.reader(csvfile, delimiter=\"\\t\", quotechar='\"')\n",
    "        headers = next(csvreader)\n",
    "        CWBR = namedtuple('CWBR', headers)\n",
    "        for row in csvreader:\n",
    "            item = CWBR(*row)\n",
    "            cwbr_dict[item.ID] = item"
   ]
  },
  {
   "cell_type": "code",
   "execution_count": 51,
   "metadata": {
    "collapsed": true
   },
   "outputs": [],
   "source": [
    "for filename in ('Split_Into_Types/Contains_img.csv', \n",
    "                  'Split_Into_Types/Hyperlink_in_review.csv',\n",
    "                  'Split_Into_Types/Main_set.csv',\n",
    "                  'Split_Into_Types/Review_Just_URL.csv',\n",
    "                  'Split_Into_Types/Review_no_text.csv',\n",
    "                  'Split_Into_Types/Simple_text.csv'):\n",
    "    csv_to_dictionary(filename)"
   ]
  },
  {
   "cell_type": "code",
   "execution_count": 53,
   "metadata": {
    "collapsed": false
   },
   "outputs": [],
   "source": [
    "broken_links = ['http://www.cwbr.com/civilwarbookreview/images/jackets/TheLeadershipOfUlyssesSGrant.jpg',\n",
    "                'http://www.cwbr.com/civilwarbookreview/images/jackets/BerryAllthatMakesaMan.jpg',\n",
    "                'http://www.cwbr.com/civilwarbookreview/images/jackets/Canaan.jpg',\n",
    "                'http://www.cwbr.com/civilwarbookreview/images/jackets/tintern.jpg',\n",
    "                'http://www.cwbr.com/civilwarbookreview/images/jackets/HLHunley.jpg',\n",
    "                'http://www.cwbr.com/civilwarbookreview/images/jackets/McPhersonDaysofDestiny.jpg',\n",
    "                'http://www.cwbr.com/civilwarbookreview/images/jackets/EdwardsShelbysExpedition.jpg',\n",
    "                'http://www.cwbr.com/civilwarbookreview/images/jackets/OutOfTheHouseOfBondage.jpg',\n",
    "                'http://www.cwbr.com/civilwarbookreview/images/jackets/RobertLee.jpg',\n",
    "                'http://www.cwbr.com/civilwarbookreview/images/jackets/WelfareAndCharity.jpg',\n",
    "                'http://www.cwbr.com/civilwarbookreview/images/jackets/ColonelsInBlue.jpg',\n",
    "                'http://www.cwbr.com/civilwarbookreview/images/jackets/TheOzarks.jpg',\n",
    "                'http://www.cwbr.com/civilwarbookreview/images/jackets/UpcountrySouthCarolinaGoesToWar.jpg',\n",
    "                'http://www.cwbr.com/civilwarbookreview/images/jackets/TheBattleOfPickettsMill.jpg',\n",
    "                'http://www.cwbr.com/civilwarbookreview/images/jackets/BurningRailsAsWePleased.jpg',\n",
    "                'http://www.cwbr.com/civilwarbookreview/images/jackets/SexSicknessandSlavery.jpg',\n",
    "                'http://www.cwbr.com/civilwarbookreview/images/jackets/QuantrillInTexas.jpg',\n",
    "                'http://www.cwbr.com/civilwarbookreview/images/jackets/OutOfTheMouthOfHell.jpg',\n",
    "                'http://www.cwbr.com/civilwarbookreview/images/jackets/FlagsCivilwarMissouri.jpg',\n",
    "                'http://www.cwbr.com/civilwarbookreview/images/jackets/HorsesandMules.jpg',\n",
    "                'http://www.cwbr.com/civilwarbookreview/images/jackets/LastToLeaveTheField.jpg',\n",
    "                'http://www.cwbr.com/civilwarbookreview/images/jackets/QueenOfTheConfederacy.jpg',\n",
    "                \"http://www.cwbr.com/civilwarbookreview/images/jackets/PrinceGeorge'sCountry.jpg\",\n",
    "                'http://www.cwbr.com/civilwarbookreview/images/jackets/CivilWarRevolvers.jpg',\n",
    "                'http://www.cwbr.com/civilwarbookreview/images/jackets/TheWilmington&WeldonRailroadInTheCivilWar.jpg',\n",
    "                'http://www.cwbr.com/civilwarbookreview/images/jackets/CivilWarSoldiersOfGreaterCleveland.jpg',\n",
    "                'http://www.cwbr.com/civilwarbookreview/images/jackets/LeesCavalrymen.jpg',\n",
    "                'http://www.cwbr.com/civilwarbookreview/images/jackets/GettingUsedToBeingShotAt.jpg',\n",
    "                'http://www.cwbr.com/civilwarbookreview/images/jackets/LifeandLabor.jpg',\n",
    "                'http://www.cwbr.com/civilwarbookreview/images/jackets/TheSeventhStarOfTheConfederacy.jpg',\n",
    "                'http://www.cwbr.com/civilwarbookreview/images/jackets/ARegimentOfSlaves.jpg',\n",
    "                'http://www.cwbr.com/civilwarbookreview/images/jackets/AcountryRiven.jpg',\n",
    "                'http://www.cwbr.com/civilwarbookreview/images/jackets/RebelsandRunaways.jpg',\n",
    "                'http://www.cwbr.com/civilwarbookreview/images/jackets/FloridasMonuments.jpg',\n",
    "                'http://www.cwbr.com/civilwarbookreview/images/jackets/KallenUndergroundRailroad.jpg',\n",
    "                'http://www.cwbr.com/civilwarbookreview/images/jackets/OpticTheBlueandTheGray.jpg',\n",
    "                'http://www.cwbr.com/civilwarbookreview/images/jackets/BrianThomsenAlternateGettysburg.jpg',\n",
    "                'http://www.cwbr.com/civilwarbookreview/images/jackets/VoicesFromCompanyD.jpg',\n",
    "                'http://www.cwbr.com/civilwarbookreview/images/jackets/GarlandTrailMakers.jpg',\n",
    "                'http://www.cwbr.com/civilwarbookreview/images/jackets/DurkinTheLastMan.jpg',\n",
    "                'http://www.cwbr.com/civilwarbookreview/images/jackets/NeitherLadynorSlave.jpg',\n",
    "                \n",
    "\n",
    "                \n",
    "               ]\n",
    "\n",
    "\n",
    "\n",
    "\n",
    "import urllib.request\n",
    "import os\n",
    "\n",
    "path_regex = re.compile('src=\"(?P<path>[\\S]+)\"')\n",
    "\n",
    "def find_img_url(image_text):\n",
    "    imagepath = path_regex.search(image_text)\n",
    "    webpath = imagepath.group('path')\n",
    "    url = 'http://www.cwbr.com{}'.format(webpath)\n",
    "    return url\n",
    "\n",
    "\n",
    "for urn, pack in cwbr_dict.items():\n",
    "    images = [pack.Image, pack.Image2, pack.Image3, pack.Image4, pack.Image5]\n",
    "    image_urls = [find_img_url(i) for i in images if i]\n",
    "    for image_url in image_urls:\n",
    "        os.makedirs('images/{}'.format(urn), exist_ok=True)\n",
    "        filepath = 'images/{}/{}'.format(urn, image_url.split('/')[-1])      \n",
    "        if os.path.isfile(filepath):\n",
    "            continue\n",
    "        if image_url in broken_links:\n",
    "            continue\n",
    "        with urllib.request.urlopen(image_url) as response:\n",
    "            binary = response.read()\n",
    "        with open(filepath, 'bw') as f:\n",
    "            f.write(binary)"
   ]
  },
  {
   "cell_type": "code",
   "execution_count": 54,
   "metadata": {
    "collapsed": false
   },
   "outputs": [
    {
     "data": {
      "text/plain": [
       "41"
      ]
     },
     "execution_count": 54,
     "metadata": {},
     "output_type": "execute_result"
    }
   ],
   "source": [
    "len(broken_links)"
   ]
  },
  {
   "cell_type": "code",
   "execution_count": 57,
   "metadata": {
    "collapsed": false
   },
   "outputs": [
    {
     "name": "stdout",
     "output_type": "stream",
     "text": [
      "3454\n"
     ]
    }
   ],
   "source": [
    "# prints the item with the longest Review\n",
    "\n",
    "longest_item = ('', '')\n",
    "for k, v in cwbr_dict.items():\n",
    "    if len(v.Review) > len(longest_item[1]):\n",
    "        longest_item = (k, v.Review)\n",
    "print(longest_item[0])"
   ]
  },
  {
   "cell_type": "code",
   "execution_count": 41,
   "metadata": {
    "collapsed": false
   },
   "outputs": [],
   "source": [
    "def strip_and_replace(text):\n",
    "    return text.strip().replace(\":\", \"\").replace(\".\", \"\").replace(\",\", \"\").replace('\"', '').replace(\"<p>\", \"\").lower().replace(' ', '')\n",
    "\n",
    "inside, not_inside = 0, 0\n",
    "for uid, issue in cwbr_dict.items():\n",
    "    if issue.Teaser in issue.Title:\n",
    "        inside += 1\n",
    "    elif strip_and_replace(issue.Teaser[:-5]) in strip_and_replace(issue.Title):\n",
    "        inside += 1\n",
    "    else:\n",
    "        not_inside += 1\n",
    "        \n",
    "#       is Teaser a subset of Title??\n",
    "#         print(\"Teaser: {}\\nTitle: {}\\n\\n\".format(issue.Teaser, issue.Title))\n",
    "# print(inside, not_inside)"
   ]
  },
  {
   "cell_type": "code",
   "execution_count": 42,
   "metadata": {
    "collapsed": false
   },
   "outputs": [],
   "source": [
    "# how many have Sub_headlines?  How do they Sub_headlines compare to Titles, Headlines?\n",
    "\n",
    "count = 0\n",
    "for uri, issue in cwbr_dict.items():\n",
    "    if len(issue.Sub_headline):\n",
    "        count += 1\n",
    "#         print(\"{}\\nS: {}\\nH: {}\\nT: {}\\n\\n\".format(uri, issue.Sub_headline, issue.Headline, issue.Title))\n",
    "# print(count)"
   ]
  },
  {
   "cell_type": "code",
   "execution_count": 43,
   "metadata": {
    "collapsed": true
   },
   "outputs": [],
   "source": [
    "# How many have a Headline?  Are Headlines a shortened form of the Title?\n",
    "\n",
    "count = 0\n",
    "similar = 0\n",
    "for uri, issue in cwbr_dict.items():\n",
    "    if len(issue.Headline):\n",
    "        count += 1\n",
    "        if strip_and_replace(issue.Headline) in strip_and_replace(issue.Title):\n",
    "            similar += 1\n",
    "#             print(\"{}\\nS: {}\\nH: {}\\nT: {}\\n\\n\".format(uri, issue.Sub_headline, issue.Headline, issue.Title))\n",
    "# print(count, similar)"
   ]
  },
  {
   "cell_type": "code",
   "execution_count": 44,
   "metadata": {
    "collapsed": false
   },
   "outputs": [],
   "source": [
    "# what is our datastructure?  give an example\n",
    "\n",
    "# item = cwbr_dict['6115']\n",
    "# print(dir(item))\n",
    "# for field in item._fields:\n",
    "#     print(\"{}\\t\\t{}\".format(field, getattr(item, field)[:100]))"
   ]
  },
  {
   "cell_type": "code",
   "execution_count": 45,
   "metadata": {
    "collapsed": false
   },
   "outputs": [],
   "source": [
    "# how many have a Teaser?  print all the Teasers to screen.\n",
    "\n",
    "count = 0\n",
    "for k, v in cwbr_dict.items():\n",
    "    if len(v.Teaser):\n",
    "        count += 1\n",
    "#         print(v.Teaser)\n",
    "# print(count)"
   ]
  },
  {
   "cell_type": "code",
   "execution_count": 80,
   "metadata": {
    "collapsed": true
   },
   "outputs": [],
   "source": [
    "from reportlab.lib.enums import TA_JUSTIFY, TA_CENTER\n",
    "from reportlab.platypus import SimpleDocTemplate, Paragraph, Spacer\n",
    "from reportlab.lib.styles import getSampleStyleSheet, ParagraphStyle\n",
    "from reportlab.lib.units import inch\n",
    "from reportlab.pdfgen import canvas\n",
    "from reportlab.lib.pagesizes import letter\n",
    "from reportlab.lib.units import inch"
   ]
  },
  {
   "cell_type": "code",
   "execution_count": 136,
   "metadata": {
    "collapsed": false,
    "scrolled": true
   },
   "outputs": [],
   "source": [
    "# a styling with justified lines & indentation of some number of points.\n",
    "\n",
    "styles=getSampleStyleSheet()\n",
    "styles.add(ParagraphStyle(name='Justify',\n",
    "                          fontName = 'Times-Roman',\n",
    "                          alignment=TA_JUSTIFY,\n",
    "                          firstLineIndent=25,\n",
    "                          fontSize = 14,\n",
    "                          leading = 17))\n",
    "\n",
    "styles.add(ParagraphStyle(name='TitleBig',\n",
    "                          fontName ='Times-Bold',\n",
    "                          alignment=TA_CENTER,\n",
    "                          fontSize = 14,\n",
    "                          leading = 18))\n",
    "\n",
    "styles.add(ParagraphStyle(name='AuthorBig',\n",
    "                          fontname = 'Times-Bold',\n",
    "                          alignment = TA_CENTER,\n",
    "                          fontSize = 12,\n",
    "                          leading = 14))\n"
   ]
  },
  {
   "cell_type": "code",
   "execution_count": 137,
   "metadata": {
    "collapsed": true
   },
   "outputs": [],
   "source": [
    "# script to turn the html into a pdf.  \n",
    "# several different variations are included, to challenge our dataset -- to see which have errors.\n",
    "\n",
    "# This one crashes on the first failure.\n",
    "\n",
    "\n",
    "def do_thing(uri):\n",
    "    issue = cwbr_dict[uri]\n",
    "    doc = SimpleDocTemplate('output/{}.pdf'.format(uri),\n",
    "                           pagesize=letter,\n",
    "                           rightMargin=72,\n",
    "                           leftMargin=72,\n",
    "                           topMargin=72,\n",
    "                           bottomMargin=18)\n",
    "\n",
    "    template = []\n",
    "    \n",
    "    title = issue.Title.replace('<br>', '<p>').replace('</br>', '</p>')\n",
    "    for item in title.split('<p>'):\n",
    "        if len(item):\n",
    "            p = Paragraph(item, styles[\"TitleBig\"])\n",
    "            template.append(p)\n",
    "    template.append(Spacer(1,0.2*inch))\n",
    "    \n",
    "    for author in (issue.Auth_1, issue.Auth_2, issue.Auth_3):\n",
    "        author = author.replace('<br>', '<p>').replace('</br>', '</p>')\n",
    "        if author:\n",
    "            p = Paragraph(author, styles[\"AuthorBig\"])\n",
    "            template.append(p)\n",
    "    template.append(Spacer(1,0.2*inch))\n",
    "\n",
    "    \n",
    "    split_strings = issue.Review.replace('<br>', '<p>').replace('</br>', '</p>').split('<p>')\n",
    "\n",
    "    if len(split_strings) == 1:\n",
    "        p = Paragraph(split_strings[0], styles[\"Justify\"])\n",
    "        template.append(p)\n",
    "    else:\n",
    "        for item in split_strings:\n",
    "            if len(item):\n",
    "                p = Paragraph(item, styles[\"Justify\"])\n",
    "                template.append(p)\n",
    "                template.append(Spacer(1,0.2*inch))\n",
    "\n",
    "    doc.build(template)\n"
   ]
  },
  {
   "cell_type": "code",
   "execution_count": 138,
   "metadata": {
    "collapsed": false
   },
   "outputs": [],
   "source": [
    "do_thing('3454')"
   ]
  },
  {
   "cell_type": "code",
   "execution_count": 14,
   "metadata": {
    "collapsed": true
   },
   "outputs": [],
   "source": [
    "# This one logs which ones fail, then continues to the next one.\n",
    "\n",
    "def do_thing_log_fails(uri):\n",
    "    issue = cwbr_dict[uri]\n",
    "    doc = SimpleDocTemplate('output/{}.pdf'.format(uri),\n",
    "                           pagesize=letter,\n",
    "                           rightMargin=72,\n",
    "                           leftMargin=72,\n",
    "                           topMargin=72,\n",
    "                           bottomMargin=18)\n",
    "    template = []\n",
    "    split_strings = issue.Review.replace('<br>', '<p>').replace('</br>', '</p>').split('<p>')\n",
    "    try:\n",
    "        if len(split_strings) == 1:\n",
    "            p = Paragraph(split_strings[0], styles[\"Justify\"])\n",
    "            template.append(p)\n",
    "        else:\n",
    "            for i in split_strings:\n",
    "                if len(i):\n",
    "                    p = Paragraph(i, styles[\"Justify\"])\n",
    "                    template.append(p)\n",
    "                    template.append(Spacer(1,0.2*inch))\n",
    "                else:\n",
    "                    pass\n",
    "        doc.build(template)\n",
    "    except:\n",
    "        failed.append(uri)"
   ]
  },
  {
   "cell_type": "code",
   "execution_count": 15,
   "metadata": {
    "collapsed": false
   },
   "outputs": [],
   "source": [
    "# another variety\n",
    "\n",
    "def do_thing_without_exception(uri):\n",
    "    issue = cwbr_dict[uri]\n",
    "    doc = SimpleDocTemplate('output/{}.pdf'.format(uri),\n",
    "                           pagesize=letter,\n",
    "                           rightMargin=72,\n",
    "                           leftMargin=72,\n",
    "                           topMargin=72,\n",
    "                           bottomMargin=18)\n",
    "    template = []\n",
    "    split_strings = issue.Review.replace('<br>', '<p>').replace('</br>', '</p>').split('<p>')\n",
    "    split_strings = [i.replace('</p>', '') for i in split_strings]\n",
    "    for num, i in enumerate(split_strings):\n",
    "        for tag in ('b', 'i', 'a'):  # in case of extra single-letter </tag> in string\n",
    "            extra_tag = i.count('<{}>'.format(tag)) - i.count('</{}>'.format(tag))\n",
    "            if extra_tag < 0:\n",
    "                for _ in range(extra_tag):\n",
    "                    print(split_strings)\n",
    "                    last_pos = i.rfind('</{}>'.format(tag))\n",
    "                    split_strings[num] = i[:last_pos] + i[last_pos+3:]\n",
    "                    extra_closed_tag.append((uri, i))\n",
    "            if extra_tag > 0:\n",
    "                for _ in range(extra_tag):\n",
    "                    split_strings[num] = i + '</{}>'.format(tag)\n",
    "    if len(split_strings) == 1:\n",
    "        p = Paragraph(split_strings[0], styles[\"Justify\"])\n",
    "        template.append(p)\n",
    "    else:\n",
    "        for i in split_strings:\n",
    "            if len(i):\n",
    "                p = Paragraph(i, styles[\"Justify\"])\n",
    "                template.append(p)\n",
    "                template.append(Spacer(1,0.2*inch))\n",
    "            else:\n",
    "                pass\n",
    "                print('Empty string: {}'.format(i))\n",
    "    doc.build(template)\n"
   ]
  },
  {
   "cell_type": "code",
   "execution_count": 16,
   "metadata": {
    "collapsed": true
   },
   "outputs": [],
   "source": [
    "# This one prints to screen each step, to nail down when the data error is\n",
    "# Only run this one as 'do_thing_print_fails('25322')\n",
    "#   (E.g., for one item, else it will use all your RAM and freeze your computer)\n",
    "\n",
    "def do_thing_print_fails(uri):\n",
    "    issue = cwbr_dict[uri]\n",
    "    print('a')\n",
    "    doc = SimpleDocTemplate('output/{}.pdf'.format(uri),\n",
    "                           pagesize=letter,\n",
    "                           rightMargin=72,\n",
    "                           leftMargin=72,\n",
    "                           topMargin=72,\n",
    "                           bottomMargin=18)\n",
    "    print('b')\n",
    "    template = []\n",
    "    split_strings = issue.Review.replace('<br>', '<p>').replace('</br>', '</p>').split('<p>')\n",
    "    print('c')\n",
    "    try:\n",
    "        if len(split_strings) == 1:\n",
    "            print('d')\n",
    "            p = Paragraph(split_strings[0], styles[\"Justify\"])\n",
    "            print('e')\n",
    "            template.append(p)\n",
    "            print('f')\n",
    "        else:\n",
    "            print('g')\n",
    "            for i in split_strings:\n",
    "                print('h')\n",
    "                if len(i):\n",
    "                    print('i')\n",
    "                    print(i)\n",
    "                    p = Paragraph(i, styles[\"Justify\"])\n",
    "                    print('j')\n",
    "                    template.append(p)\n",
    "                    print('k')\n",
    "                    template.append(Spacer(1,0.2*inch))\n",
    "                    print('l')\n",
    "                else:\n",
    "                    print('m')\n",
    "                    pass\n",
    "        print('n')\n",
    "        doc.build(template)\n",
    "        print('o')\n",
    "    except:\n",
    "        print('p')"
   ]
  },
  {
   "cell_type": "code",
   "execution_count": 17,
   "metadata": {
    "collapsed": true
   },
   "outputs": [],
   "source": [
    "# this runs all the items in the loaded csv, with logging fails into a list called \"failed\".\n",
    "\n",
    "failed = []\n",
    "\n",
    "for uri in cwbr_dict:\n",
    "    do_thing_log_fails(uri)"
   ]
  },
  {
   "cell_type": "code",
   "execution_count": 18,
   "metadata": {
    "collapsed": false
   },
   "outputs": [
    {
     "name": "stdout",
     "output_type": "stream",
     "text": [
      "1081 1775 60.0%\n"
     ]
    }
   ],
   "source": [
    "# prints how many failed, how many are in the loaded csv, and what percent failed.\n",
    "\n",
    "print(len(failed),\n",
    "      len(cwbr_dict),\n",
    "      '{}%'.format(len(failed)/len(cwbr_dict)//.01))\n"
   ]
  },
  {
   "cell_type": "code",
   "execution_count": 19,
   "metadata": {
    "collapsed": false,
    "scrolled": true
   },
   "outputs": [
    {
     "name": "stdout",
     "output_type": "stream",
     "text": [
      "1081\n",
      "('4986', (<class 'ValueError'>, ValueError('invalid attribute name target attrMap=[\\'backColor\\', \\'backcolor\\', \\'bgcolor\\', \\'color\\', \\'fg\\', \\'fontName\\', \\'fontSize\\', \\'fontname\\', \\'fontsize\\', \\'href\\', \\'name\\', \\'textColor\\', \\'textcolor\\']\\nparagraph text \\'<para><a href=\"http://www.amazon.com/Famine-Freedom-Irish-American-Civil/dp/1463513518\" target=\"resource window\">Click here for more information</a></para>\\' caused exception',), <traceback object at 0x7fc8173e3f88>))\n"
     ]
    }
   ],
   "source": [
    "import sys\n",
    "\n",
    "extra_closed_tag = []\n",
    "parse_error = []\n",
    "\n",
    "for uri in failed:\n",
    "    try:\n",
    "        do_thing_without_exception(uri)\n",
    "    except Exception:\n",
    "        parse_error.append((uri, sys.exc_info()))\n",
    "\n",
    "\n",
    "print(len(failed))\n",
    "if parse_error:\n",
    "    print(parse_error[0])\n",
    "\n",
    "# with open('exception.txt', 'w') as f:\n",
    "#     output_text = ''\n",
    "#     for item in parse_error:\n",
    "#         output_text += '{}\\n'.format(item)\n",
    "#     f.write(output_text)\n",
    "\n"
   ]
  },
  {
   "cell_type": "code",
   "execution_count": 20,
   "metadata": {
    "collapsed": false,
    "scrolled": true
   },
   "outputs": [],
   "source": [
    "# this identifies 3 causes of errors in parsing the data -- and a Leftovers group for items with unknown error\n",
    "\n",
    "Review_starts_with_url = []\n",
    "Review_starts_with_image = []\n",
    "Review_starts_with_header_url = []\n",
    "Leftovers = []\n",
    "Other_breaking_types = ['5738', '6050', '3326', '6176', '5804', '3453', ]\n",
    "\n",
    "\n",
    "for item in parse_error:\n",
    "#     if item[0] in Other_breaking_types:\n",
    "#         continue\n",
    "    if \"<para><a href=\" in item[1][1].args[0]:\n",
    "        Review_starts_with_url.append(item)\n",
    "    elif \"<para><img \" in item[1][1].args[0]:\n",
    "        Review_starts_with_image.append(item)\n",
    "    elif \"<para><h3><a href=\" in item[1][1].args[0]:\n",
    "        Review_starts_with_header_url.append(item)\n",
    "    else:\n",
    "        Leftovers.append(item)"
   ]
  },
  {
   "cell_type": "code",
   "execution_count": 36,
   "metadata": {
    "collapsed": false,
    "scrolled": true
   },
   "outputs": [
    {
     "name": "stdout",
     "output_type": "stream",
     "text": [
      "1021: Review,1031: Review,1464: ,1357: Review,1024: Review,1194: Review,1258: Review,2291: Review,1883: ,1288: Review,2303: Review,1299: Review,2286: Review,1265: Review,2379: Review,1315: Review,5821: Annotation,2265: ,1271: Review,1829: ,2135: ,1303: Review,2264: ,2324: Review,1183: Review,2367: Review,1685: Review,2320: Review,1189: Review,1296: Review,1313: Review,2272: ,2154: ,1461: ,4217: Annotation,1595: ,2273: ,2442: Annotation,2099: ,1458: ,1291: Review,1201: Review,1466: ,1472: ,2284: Review,1294: Review,1459: ,2373: Review,1188: Review,1015: Review,1032: Review,1935: ,1254: Review,2266: ,1246: Review,2294: Review,1203: Review,1247: Review,1361: Review,1257: Review,1097: ,2271: ,2011: ,1266: Review,2370: Review,1030: Review,1684: Review,1680: Review,1267: Review,2326: Review,2321: Review,1547: ,1206: Review,2363: Review,1011: Review,1360: Review,1250: Review,2262: ,2374: Review,1196: Review,5804: Classics,2436: Annotation,1210: Review,1882: ,1304: Review,2376: Review,1520: ,1027: Review,1264: Review,1926: ,1565: ,1211: Classics,1880: ,1683: Review,1245: Review,2285: Review,1198: Review,1190: Review,1541: ,2318: Review,1306: Review,1366: Review,1677: Review,1308: Review,1465: ,1624: ,2268: ,1199: Review,2312: Review,1359: Review,1761: ,1251: Review,1184: Review,1262: Review,1286: Review,1207: Review,1033: Review,5091: Annotation,1256: Review,2322: Review,1363: Review,2372: Review,1457: ,1311: Review,4254: Annotation,2156: ,1370: Review,2364: Review,1285: Review,2377: Review,1017: Review,1352: Review,1542: ,1879: ,2290: Review,1568: ,1309: Review,1877: ,2296: Review,1195: Review,1362: Review,1208: Review,1460: ,1687: Review,1688: Review,1456: ,2315: Review,1252: Review,1564: ,1025: Review,2327: Review,1192: Review,2168: ,1353: Review,2010: ,1302: Review,1312: Review,1301: Review,5073: Annotation,1368: Review,1270: Review,2293: Review,1623: ,1300: Review,1367: Review,1018: Review,3688: Annotation,2267: ,2369: Review,2310: Review,2165: ,2288: Review,1298: Review,1936: ,1020: Review,1314: Review,1325: Annotation,1355: Review,1899: ,1012: Review,1310: Review,1016: Review,1259: Review,2375: Review,1927: ,1305: Review,1470: ,2438: Annotation,1462: ,1356: Review,1307: Review,1897: ,2314: Review,1029: Review,1364: Review,1881: ,4269: Annotation,1197: Review,2371: Review,2155: ,2304: Review,2368: Review,1813: ,1028: Review,5097: Annotation,1604: ,1295: Review,1358: Review,1455: ,1026: Review,1289: Review,1878: ,1463: ,1682: Review,3647: Annotation,1023: Review,2325: Review,1679: Review,1261: Review,2157: ,1473: ,1260: Review,1022: Review,2166: ,1200: Review,2295: Review,2378: Review,1253: Review,3695: Annotation,1686: Review,2317: Review,1131: Annotation,1297: Review,1248: Review,1187: Review,1263: Review,1365: Review,1255: Review,1884: ,2323: Review,1898: ,1467: ,1885: ,2289: Review,1287: Review,1205: Review,2167: ,1019: Review,1269: Review,2298: Review,1013: Review,1268: Review,2297: Review,2366: Review,1204: Review,2274: ,5082: Annotation,1354: Review,1193: Review,2287: ,1290: Review,1202: Review,2316: Review,1209: Review,1369: Review,1471: ,1351: Review,2307: Review,1293: Review,1292: Review,2261: ,1191: Review,1681: Review,\n"
     ]
    }
   ],
   "source": [
    "items = ''\n",
    "for k, v  in cwbr_dict.items():\n",
    "    items = items + '{}: {},'.format(k, v.Record_type)\n",
    "# print(items)"
   ]
  },
  {
   "cell_type": "code",
   "execution_count": 21,
   "metadata": {
    "collapsed": false
   },
   "outputs": [
    {
     "name": "stdout",
     "output_type": "stream",
     "text": [
      "failed: 1081 \n",
      " parse_error 1081 \n",
      " Review_starts_with_url 1081 \n",
      " Review_starts_with_header_url 0 \n",
      " Review_starts_with_image: 0 \n",
      " Remainder 0 \n",
      " Leftovers 0 \n",
      "\n",
      "['1124', '1125', '1126', '1127', '1128', '3386', '3387', '3388', '3389', '3396', '3461', '3624', '3625', '3626', '3627', '3629', '3630', '3631', '3632', '3633', '3634', '3635', '3636', '3637', '3638', '3639', '3640', '3641', '3642', '3643', '3644', '3645', '3646', '3648', '3649', '3650', '3651', '3652', '3653', '3673', '3674', '3675', '3676', '3677', '3678', '3679', '3680', '3681', '3682', '3683', '3684', '3685', '3686', '3687', '3689', '3690', '3691', '3692', '3693', '3694', '3696', '3697', '3698', '3699', '3700', '3701', '3702', '3703', '3704', '3705', '3706', '3707', '3708', '3709', '3710', '3732', '3733', '3734', '3735', '3736', '3737', '3738', '3739', '3740', '3741', '3742', '3743', '3744', '3745', '3746', '3747', '3748', '3749', '3750', '3751', '3752', '3753', '3754', '3755', '3756', '3757', '3758', '3759', '3760', '3761', '3762', '3763', '3764', '3765', '3766', '3767', '3768', '3794', '3795', '3797', '3798', '3799', '3800', '3801', '3802', '3803', '3804', '3805', '3806', '3807', '3808', '3809', '3810', '3811', '3812', '3813', '3814', '3815', '3816', '3817', '3818', '3819', '3820', '3821', '3822', '3823', '3824', '3825', '3826', '3827', '3828', '3829', '3830', '3831', '3832', '3833', '3834', '3860', '3861', '3862', '3863', '3864', '3865', '3866', '3867', '3868', '3869', '3870', '3871', '3872', '3873', '3874', '3875', '3876', '3877', '3878', '3879', '3880', '3881', '3882', '3883', '3884', '3885', '3886', '3887', '3888', '3889', '3913', '3914', '3915', '3916', '3917', '3918', '3919', '3920', '3921', '3922', '3923', '3924', '3925', '3926', '3927', '3928', '3929', '3930', '3931', '3932', '3933', '3934', '3935', '3936', '3937', '3938', '3939', '3940', '3941', '3942', '3943', '3944', '3945', '3946', '3947', '3948', '3949', '3950', '3951', '3952', '3953', '3954', '3955', '3971', '3972', '3973', '3974', '3975', '3976', '3977', '3978', '3979', '3980', '3981', '3982', '3983', '3984', '3985', '3986', '3987', '3988', '3989', '3990', '3991', '3992', '3993', '3994', '3995', '3996', '3997', '3998', '3999', '4000', '4001', '4002', '4003', '4004', '4005', '4006', '4007', '4008', '4009', '4010', '4011', '4012', '4013', '4014', '4015', '4016', '4017', '4018', '4019', '4020', '4021', '4022', '4023', '4024', '4025', '4026', '4027', '4028', '4029', '4030', '4031', '4054', '4055', '4056', '4057', '4058', '4059', '4060', '4061', '4062', '4063', '4064', '4065', '4066', '4067', '4068', '4069', '4070', '4071', '4072', '4073', '4074', '4075', '4076', '4077', '4078', '4079', '4080', '4081', '4082', '4083', '4084', '4085', '4086', '4087', '4088', '4089', '4090', '4091', '4092', '4093', '4094', '4095', '4123', '4124', '4125', '4126', '4127', '4128', '4129', '4130', '4131', '4132', '4133', '4134', '4135', '4136', '4137', '4138', '4139', '4140', '4141', '4142', '4143', '4144', '4145', '4146', '4147', '4148', '4149', '4150', '4151', '4152', '4153', '4154', '4155', '4156', '4157', '4158', '4159', '4161', '4162', '4163', '4164', '4165', '4166', '4167', '4168', '4169', '4170', '4171', '4172', '4173', '4174', '4175', '4176', '4177', '4178', '4179', '4180', '4181', '4182', '4183', '4184', '4185', '4186', '4187', '4188', '4189', '4190', '4191', '4192', '4193', '4194', '4195', '4196', '4197', '4198', '4199', '4200', '4201', '4202', '4203', '4204', '4205', '4206', '4207', '4208', '4209', '4210', '4211', '4212', '4213', '4214', '4215', '4216', '4218', '4219', '4220', '4221', '4222', '4223', '4224', '4225', '4226', '4227', '4249', '4250', '4251', '4252', '4253', '4255', '4256', '4257', '4258', '4259', '4260', '4261', '4262', '4263', '4264', '4265', '4266', '4267', '4268', '4270', '4271', '4272', '4273', '4274', '4275', '4276', '4277', '4278', '4279', '4280', '4281', '4282', '4283', '4284', '4285', '4286', '4287', '4288', '4289', '4290', '4291', '4292', '4293', '4294', '4295', '4296', '4297', '4298', '4299', '4300', '4301', '4302', '4303', '4304', '4305', '4306', '4307', '4308', '4309', '4310', '4329', '4330', '4331', '4332', '4333', '4334', '4335', '4336', '4337', '4338', '4339', '4340', '4341', '4342', '4343', '4344', '4345', '4346', '4347', '4348', '4349', '4350', '4351', '4352', '4353', '4354', '4355', '4356', '4357', '4358', '4359', '4360', '4361', '4362', '4363', '4364', '4365', '4366', '4367', '4368', '4369', '4370', '4371', '4372', '4373', '4374', '4375', '4376', '4377', '4398', '4405', '4406', '4407', '4408', '4409', '4410', '4411', '4412', '4413', '4414', '4415', '4416', '4417', '4418', '4419', '4420', '4421', '4422', '4423', '4424', '4425', '4426', '4427', '4428', '4429', '4430', '4431', '4432', '4433', '4434', '4435', '4436', '4437', '4438', '4439', '4440', '4441', '4442', '4443', '4444', '4445', '4446', '4447', '4448', '4449', '4450', '4451', '4452', '4453', '4454', '4455', '4456', '4457', '4458', '4459', '4460', '4461', '4483', '4484', '4485', '4486', '4487', '4488', '4489', '4490', '4491', '4492', '4493', '4494', '4495', '4496', '4497', '4498', '4499', '4500', '4501', '4502', '4503', '4504', '4505', '4506', '4507', '4508', '4509', '4516', '4517', '4518', '4519', '4520', '4521', '4522', '4523', '4524', '4525', '4526', '4527', '4528', '4529', '4530', '4531', '4532', '4533', '4534', '4535', '4536', '4537', '4538', '4539', '4540', '4541', '4542', '4543', '4544', '4568', '4569', '4570', '4571', '4572', '4573', '4574', '4575', '4576', '4577', '4578', '4579', '4580', '4581', '4582', '4583', '4584', '4585', '4586', '4587', '4588', '4589', '4590', '4591', '4592', '4593', '4595', '4596', '4597', '4598', '4599', '4600', '4601', '4602', '4603', '4604', '4605', '4606', '4607', '4608', '4609', '4610', '4611', '4612', '4613', '4614', '4615', '4616', '4617', '4640', '4641', '4642', '4643', '4644', '4645', '4646', '4647', '4648', '4649', '4650', '4651', '4652', '4653', '4654', '4655', '4656', '4657', '4658', '4659', '4660', '4661', '4662', '4664', '4665', '4666', '4667', '4668', '4669', '4670', '4671', '4672', '4673', '4674', '4675', '4676', '4677', '4678', '4679', '4680', '4681', '4682', '4683', '4706', '4707', '4709', '4710', '4711', '4712', '4713', '4714', '4715', '4716', '4717', '4718', '4719', '4720', '4721', '4722', '4723', '4724', '4725', '4726', '4727', '4728', '4729', '4730', '4731', '4732', '4733', '4734', '4735', '4736', '4737', '4738', '4739', '4740', '4741', '4742', '4743', '4744', '4745', '4759', '4760', '4761', '4762', '4763', '4764', '4765', '4766', '4767', '4768', '4769', '4770', '4771', '4772', '4773', '4774', '4775', '4776', '4777', '4778', '4779', '4780', '4781', '4782', '4783', '4784', '4785', '4786', '4787', '4788', '4789', '4790', '4791', '4792', '4793', '4794', '4795', '4796', '4797', '4798', '4800', '4801', '4802', '4803', '4805', '4806', '4807', '4808', '4809', '4829', '4830', '4831', '4832', '4833', '4834', '4835', '4836', '4837', '4838', '4839', '4840', '4841', '4842', '4843', '4844', '4845', '4846', '4847', '4848', '4849', '4850', '4851', '4853', '4854', '4855', '4856', '4857', '4858', '4859', '4860', '4861', '4862', '4863', '4864', '4865', '4866', '4867', '4868', '4869', '4870', '4871', '4872', '4873', '4874', '4875', '4876', '4877', '4878', '4902', '4903', '4904', '4905', '4906', '4907', '4908', '4909', '4910', '4911', '4912', '4913', '4914', '4915', '4916', '4917', '4918', '4919', '4920', '4921', '4922', '4923', '4924', '4925', '4926', '4927', '4928', '4929', '4930', '4931', '4932', '4933', '4934', '4935', '4936', '4937', '4938', '4939', '4940', '4941', '4942', '4943', '4944', '4945', '4946', '4947', '4948', '4949', '4950', '4952', '4975', '4976', '4977', '4978', '4979', '4980', '4981', '4982', '4983', '4984', '4985', '4986', '4987', '4988', '4989', '4990', '4991', '4992', '4993', '4994', '4995', '4996', '4997', '4998', '4999', '5000', '5001', '5002', '5003', '5004', '5005', '5006', '5007', '5008', '5009', '5010', '5011', '5012', '5013', '5014', '5015', '5016', '5017', '5018', '5019', '5020', '5021', '5022', '5023', '5024', '5043', '5044', '5045', '5046', '5047', '5048', '5049', '5050', '5051', '5052', '5053', '5054', '5055', '5056', '5057', '5058', '5059', '5060', '5061', '5062', '5063', '5064', '5065', '5066', '5067', '5068', '5069', '5070', '5071', '5072', '5074', '5075', '5076', '5077', '5078', '5079', '5080', '5081', '5083', '5084', '5085', '5086', '5087', '5088', '5089', '5090', '5092', '5093', '5094', '5095', '5096', '5098', '5099', '5100', '5101', '5112', '5113', '5124', '5125', '5126', '5127', '5128', '5129', '5130', '5131', '5132', '5133', '5134', '5135', '5136', '5137', '5138', '5139', '5140', '5141', '5142', '5143', '5144', '5145', '5146', '5147', '5148', '5149', '5150', '5151', '5152', '5153', '5154', '5155', '5156', '5157', '5158', '5159', '5160', '5161', '5162', '5163', '5164']\n"
     ]
    }
   ],
   "source": [
    "# prints the number of items in each category.  You want the numbers to end up \"0\" eventually.\n",
    "\n",
    "print(\"failed:\", len(failed), '\\n',\n",
    "      \"parse_error\", len(parse_error), '\\n',\n",
    "      \"Review_starts_with_url\", len(Review_starts_with_url), '\\n',\n",
    "      \"Review_starts_with_header_url\", len(Review_starts_with_header_url), '\\n',\n",
    "      \"Review_starts_with_image:\", len(Review_starts_with_image), \"\\n\",\n",
    "      \"Remainder\", len(parse_error)-len(Review_starts_with_url)-len(Review_starts_with_header_url), '\\n',\n",
    "      \"Leftovers\", len(Leftovers), '\\n',) \n",
    "\n",
    "print(sorted(failed))"
   ]
  },
  {
   "cell_type": "code",
   "execution_count": 22,
   "metadata": {
    "collapsed": false
   },
   "outputs": [],
   "source": [
    "# this command is useful now for finding the error in each 'nnnn' listed above.  The error is in the last printed line.\n",
    "\n",
    "# do_thing_print_fails('4244')"
   ]
  },
  {
   "cell_type": "code",
   "execution_count": 23,
   "metadata": {
    "collapsed": false,
    "scrolled": true
   },
   "outputs": [
    {
     "name": "stdout",
     "output_type": "stream",
     "text": [
      "{'Review': 0, '': 0, 'Interview': 0, 'Annotation': 0, 'Classics': 0}\n"
     ]
    }
   ],
   "source": [
    "# to see if all of an error type occur in one Record_type.\n",
    "# replace Review_starts_with_image with whatever error you wish to examine.\n",
    "\n",
    "url_starts = {\"Annotation\": 0, \"Classics\": 0, \"Review\": 0, \"\": 0, \"Interview\": 0}\n",
    "for i in Review_starts_with_image:\n",
    "    url_starts[cwbr_dict[i[0]].Record_type] += 1\n",
    "\n",
    "if Review_starts_with_image:\n",
    "    print(Review_starts_with_image[0])\n",
    "    \n",
    "print(url_starts)\n",
    "    "
   ]
  },
  {
   "cell_type": "code",
   "execution_count": null,
   "metadata": {
    "collapsed": true
   },
   "outputs": [],
   "source": []
  },
  {
   "cell_type": "code",
   "execution_count": null,
   "metadata": {
    "collapsed": false
   },
   "outputs": [],
   "source": [
    "\n",
    "\n"
   ]
  },
  {
   "cell_type": "code",
   "execution_count": 24,
   "metadata": {
    "collapsed": false
   },
   "outputs": [
    {
     "name": "stdout",
     "output_type": "stream",
     "text": [
      "['http://www.cwbr.com/civilwarbookreview/images/jackets/LastToLeaveTheField.jpg']\n"
     ]
    }
   ],
   "source": [
    "print(image_urls)"
   ]
  },
  {
   "cell_type": "code",
   "execution_count": null,
   "metadata": {
    "collapsed": true
   },
   "outputs": [],
   "source": []
  },
  {
   "cell_type": "code",
   "execution_count": 25,
   "metadata": {
    "collapsed": false
   },
   "outputs": [
    {
     "ename": "KeyError",
     "evalue": "'4053'",
     "output_type": "error",
     "traceback": [
      "\u001b[0;31m---------------------------------------------------------------------------\u001b[0m",
      "\u001b[0;31mKeyError\u001b[0m                                  Traceback (most recent call last)",
      "\u001b[0;32m<ipython-input-25-3997de503f47>\u001b[0m in \u001b[0;36m<module>\u001b[0;34m()\u001b[0m\n\u001b[0;32m----> 1\u001b[0;31m \u001b[0mdir\u001b[0m\u001b[0;34m(\u001b[0m\u001b[0mcwbr_dict\u001b[0m\u001b[0;34m[\u001b[0m\u001b[0;34m'4053'\u001b[0m\u001b[0;34m]\u001b[0m\u001b[0;34m)\u001b[0m\u001b[0;34m\u001b[0m\u001b[0m\n\u001b[0m",
      "\u001b[0;31mKeyError\u001b[0m: '4053'"
     ]
    }
   ],
   "source": [
    "dir(cwbr_dict['4053'])\n"
   ]
  },
  {
   "cell_type": "code",
   "execution_count": null,
   "metadata": {
    "collapsed": true
   },
   "outputs": [],
   "source": []
  },
  {
   "cell_type": "code",
   "execution_count": null,
   "metadata": {
    "collapsed": true
   },
   "outputs": [],
   "source": []
  },
  {
   "cell_type": "code",
   "execution_count": null,
   "metadata": {
    "collapsed": false
   },
   "outputs": [],
   "source": []
  },
  {
   "cell_type": "code",
   "execution_count": null,
   "metadata": {
    "collapsed": false
   },
   "outputs": [],
   "source": []
  },
  {
   "cell_type": "code",
   "execution_count": null,
   "metadata": {
    "collapsed": true
   },
   "outputs": [],
   "source": []
  }
 ],
 "metadata": {
  "kernelspec": {
   "display_name": "Python 3",
   "language": "python",
   "name": "python3"
  },
  "language_info": {
   "codemirror_mode": {
    "name": "ipython",
    "version": 3
   },
   "file_extension": ".py",
   "mimetype": "text/x-python",
   "name": "python",
   "nbconvert_exporter": "python",
   "pygments_lexer": "ipython3",
   "version": "3.5.2"
  }
 },
 "nbformat": 4,
 "nbformat_minor": 1
}
