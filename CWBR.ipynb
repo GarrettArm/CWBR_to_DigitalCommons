{
 "cells": [
  {
   "cell_type": "markdown",
   "metadata": {},
   "source": [
    "# Civil War Book Review scratchpad\n",
    "\n",
    "https://www.reportlab.com/docs/reportlab-userguide.pdf\n",
    "\n"
   ]
  },
  {
   "cell_type": "code",
   "execution_count": 1,
   "metadata": {
    "collapsed": false
   },
   "outputs": [],
   "source": [
    "from collections import namedtuple\n",
    "import csv\n",
    "import re\n",
    "import os"
   ]
  },
  {
   "cell_type": "code",
   "execution_count": 2,
   "metadata": {
    "collapsed": false
   },
   "outputs": [],
   "source": [
    "cwbr_dict = dict()\n",
    "\n",
    "# name the file you wish to examine [Split_Into_Types/---------.csv]\n",
    "\n",
    "with open('Split_Into_Types/Hyperlink_in_review.csv', newline='') as csvfile:\n",
    "    csvreader = csv.reader(csvfile, delimiter=\"\\t\", quotechar='\"')\n",
    "    headers = next(csvreader)\n",
    "    CWBR = namedtuple('CWBR', headers)\n",
    "    for row in csvreader:\n",
    "        item = CWBR(*row)\n",
    "        cwbr_dict[item.ID] = item"
   ]
  },
  {
   "cell_type": "code",
   "execution_count": 3,
   "metadata": {
    "collapsed": false
   },
   "outputs": [
    {
     "name": "stdout",
     "output_type": "stream",
     "text": [
      "5737\n",
      "6113\n",
      "5986\n",
      "6306\n",
      "4245\n",
      "6048\n"
     ]
    }
   ],
   "source": [
    "longest_item = ('', '')\n",
    "for k, v in cwbr_dict.items():\n",
    "    if len(v.Review) > len(longest_item[1]):\n",
    "        longest_item = (k, v.Review)\n",
    "        print(k)"
   ]
  },
  {
   "cell_type": "code",
   "execution_count": 4,
   "metadata": {
    "collapsed": false
   },
   "outputs": [],
   "source": [
    "def strip_and_replace(text):\n",
    "    return text.strip().replace(\":\", \"\").replace(\".\", \"\").replace(\",\", \"\").replace('\"', '').replace(\"<p>\", \"\").lower().replace(' ', '')\n",
    "\n",
    "inside, not_inside = 0, 0\n",
    "for uid, issue in cwbr_dict.items():\n",
    "    if issue.Teaser in issue.Title:\n",
    "        inside += 1\n",
    "    elif strip_and_replace(issue.Teaser[:-5]) in strip_and_replace(issue.Title):\n",
    "        inside += 1\n",
    "    else:\n",
    "        not_inside += 1\n",
    "        \n",
    "#       is Teaser a subset of Title??\n",
    "#         print(\"Teaser: {}\\nTitle: {}\\n\\n\".format(issue.Teaser, issue.Title))\n",
    "# print(inside, not_inside)"
   ]
  },
  {
   "cell_type": "code",
   "execution_count": 5,
   "metadata": {
    "collapsed": false
   },
   "outputs": [],
   "source": [
    "# how many have Sub_headlines?  How do they Sub_headlines compare to Titles, Headlines?\n",
    "\n",
    "count = 0\n",
    "for uri, issue in cwbr_dict.items():\n",
    "    if len(issue.Sub_headline):\n",
    "        count += 1\n",
    "#         print(\"{}\\nS: {}\\nH: {}\\nT: {}\\n\\n\".format(uri, issue.Sub_headline, issue.Headline, issue.Title))\n",
    "# print(count)"
   ]
  },
  {
   "cell_type": "code",
   "execution_count": 6,
   "metadata": {
    "collapsed": true
   },
   "outputs": [],
   "source": [
    "# How many have a Headline?  Are Headlines a shortened form of the Title?\n",
    "\n",
    "count = 0\n",
    "similar = 0\n",
    "for uri, issue in cwbr_dict.items():\n",
    "    if len(issue.Headline):\n",
    "        count += 1\n",
    "        if strip_and_replace(issue.Headline) in strip_and_replace(issue.Title):\n",
    "            similar += 1\n",
    "#             print(\"{}\\nS: {}\\nH: {}\\nT: {}\\n\\n\".format(uri, issue.Sub_headline, issue.Headline, issue.Title))\n",
    "# print(count, similar)"
   ]
  },
  {
   "cell_type": "code",
   "execution_count": 7,
   "metadata": {
    "collapsed": false
   },
   "outputs": [],
   "source": [
    "# what is our datastructure?  give an example\n",
    "\n",
    "# item = cwbr_dict['1434']\n",
    "# print(dir(item))\n",
    "# for field in item._fields:\n",
    "#     print(\"{}\\t\\t{}\".format(field, getattr(item, field)[:100]))"
   ]
  },
  {
   "cell_type": "code",
   "execution_count": 8,
   "metadata": {
    "collapsed": false
   },
   "outputs": [],
   "source": [
    "# how many have a Teaser?  print all the Teasers to screen.\n",
    "\n",
    "count = 0\n",
    "for k, v in cwbr_dict.items():\n",
    "    if len(v.Teaser):\n",
    "        count += 1\n",
    "#         print(v.Teaser)\n",
    "# print(count)"
   ]
  },
  {
   "cell_type": "code",
   "execution_count": 10,
   "metadata": {
    "collapsed": false
   },
   "outputs": [
    {
     "name": "stdout",
     "output_type": "stream",
     "text": [
      "<img hspace=6 align=LEFT width=161 height=245 alt=\"Product Cover\" border=0 src=\"/civilwarbookreview/images/jackets/ReluctantRebels.jpg\">\n"
     ]
    }
   ],
   "source": [
    "# can I identify an image url?\n",
    "\n",
    "path_regex = re.compile('src=\"(?P<path>[\\S]+)\"')\n",
    "imagepath = path_regex.search(item.Image)\n",
    "print(item.Image)\n",
    "webpath = imagepath.group('path')\n",
    "filepath = os.path.join('/media/francis/S/')\n"
   ]
  },
  {
   "cell_type": "code",
   "execution_count": 11,
   "metadata": {
    "collapsed": true
   },
   "outputs": [],
   "source": [
    "from reportlab.lib.enums import TA_JUSTIFY\n",
    "from reportlab.platypus import SimpleDocTemplate, Paragraph, Spacer\n",
    "from reportlab.lib.styles import getSampleStyleSheet, ParagraphStyle\n",
    "from reportlab.lib.units import inch\n",
    "from reportlab.pdfgen import canvas\n",
    "from reportlab.lib.pagesizes import letter\n",
    "from reportlab.lib.units import inch"
   ]
  },
  {
   "cell_type": "code",
   "execution_count": 1,
   "metadata": {
    "collapsed": false,
    "scrolled": true
   },
   "outputs": [
    {
     "ename": "NameError",
     "evalue": "name 'getSampleStyleSheet' is not defined",
     "output_type": "error",
     "traceback": [
      "\u001b[0;31m---------------------------------------------------------------------------\u001b[0m",
      "\u001b[0;31mNameError\u001b[0m                                 Traceback (most recent call last)",
      "\u001b[0;32m<ipython-input-1-b6c2aa05b58c>\u001b[0m in \u001b[0;36m<module>\u001b[0;34m()\u001b[0m\n\u001b[0;32m----> 1\u001b[0;31m \u001b[0mstyles\u001b[0m\u001b[0;34m=\u001b[0m\u001b[0mgetSampleStyleSheet\u001b[0m\u001b[0;34m(\u001b[0m\u001b[0;34m)\u001b[0m\u001b[0;34m\u001b[0m\u001b[0m\n\u001b[0m\u001b[1;32m      2\u001b[0m styles.add(ParagraphStyle(name='Justify',\n\u001b[1;32m      3\u001b[0m                           \u001b[0malignment\u001b[0m\u001b[0;34m=\u001b[0m\u001b[0mTA_JUSTIFY\u001b[0m\u001b[0;34m,\u001b[0m\u001b[0;34m\u001b[0m\u001b[0m\n\u001b[1;32m      4\u001b[0m                           firstLineIndent=25))\n",
      "\u001b[0;31mNameError\u001b[0m: name 'getSampleStyleSheet' is not defined"
     ]
    }
   ],
   "source": [
    "# a styling with justified lines & indentation of some number of points.\n",
    "\n",
    "styles=getSampleStyleSheet()\n",
    "styles.add(ParagraphStyle(name='Justify',\n",
    "                          alignment=TA_JUSTIFY,\n",
    "                          firstLineIndent=25))\n"
   ]
  },
  {
   "cell_type": "code",
   "execution_count": 13,
   "metadata": {
    "collapsed": true
   },
   "outputs": [],
   "source": [
    "# script to turn the html into a pdf.  \n",
    "# several different variations are included, to challenge our dataset -- to see which have errors.\n",
    "\n",
    "# This one crashes on the first failure.\n",
    "\n",
    "def do_thing(uri):\n",
    "    issue = cwbr_dict[uri]\n",
    "    doc = SimpleDocTemplate('output/{}.pdf'.format(uri),\n",
    "                           pagesize=letter,\n",
    "                           rightMargin=72,\n",
    "                           leftMargin=72,\n",
    "                           topMargin=72,\n",
    "                           bottomMargin=18)\n",
    "\n",
    "    template = []\n",
    "    split_strings = issue.Review.replace('<br>', '<p>').replace('</br>', '</p>').split('<p>')\n",
    "\n",
    "    if len(split_strings) == 1:\n",
    "        p = Paragraph(split_strings[0], styles[\"Justify\"])\n",
    "        template.append(p)\n",
    "    else:\n",
    "        for i in split_strings:\n",
    "            p = Paragraph(i, styles[\"Justify\"])\n",
    "            template.append(p)\n",
    "            template.append(Spacer(1,0.2*inch))\n",
    "\n",
    "    doc.build(template)\n"
   ]
  },
  {
   "cell_type": "code",
   "execution_count": null,
   "metadata": {
    "collapsed": true
   },
   "outputs": [],
   "source": [
    "# This one logs which ones fail, then continues to the next one.\n",
    "\n",
    "def do_thing_log_fails(uri):\n",
    "    issue = cwbr_dict[uri]\n",
    "    doc = SimpleDocTemplate('output/{}.pdf'.format(uri),\n",
    "                           pagesize=letter,\n",
    "                           rightMargin=72,\n",
    "                           leftMargin=72,\n",
    "                           topMargin=72,\n",
    "                           bottomMargin=18)\n",
    "    template = []\n",
    "    split_strings = issue.Review.replace('<br>', '<p>').replace('</br>', '</p>').split('<p>')\n",
    "    try:\n",
    "        if len(split_strings) == 1:\n",
    "            p = Paragraph(split_strings[0], styles[\"Justify\"])\n",
    "            template.append(p)\n",
    "        else:\n",
    "            for i in split_strings:\n",
    "                if len(i):\n",
    "                    p = Paragraph(i, styles[\"Justify\"])\n",
    "                    template.append(p)\n",
    "                    template.append(Spacer(1,0.2*inch))\n",
    "                else:\n",
    "                    pass\n",
    "        doc.build(template)\n",
    "    except:\n",
    "        failed.append(uri)"
   ]
  },
  {
   "cell_type": "code",
   "execution_count": 17,
   "metadata": {
    "collapsed": false
   },
   "outputs": [],
   "source": [
    "# another variety\n",
    "\n",
    "def do_thing_without_exception(uri):\n",
    "    issue = cwbr_dict[uri]\n",
    "    doc = SimpleDocTemplate('output/{}.pdf'.format(uri),\n",
    "                           pagesize=letter,\n",
    "                           rightMargin=72,\n",
    "                           leftMargin=72,\n",
    "                           topMargin=72,\n",
    "                           bottomMargin=18)\n",
    "    template = []\n",
    "    split_strings = issue.Review.replace('<br>', '<p>').replace('</br>', '</p>').split('<p>')\n",
    "    split_strings = [i.replace('</p>', '') for i in split_strings]\n",
    "    for num, i in enumerate(split_strings):\n",
    "        for tag in ('b', 'i', 'a'):  # in case of extra single-letter </tag> in string\n",
    "            extra_tag = i.count('<{}>'.format(tag)) - i.count('</{}>'.format(tag))\n",
    "            if extra_tag < 0:\n",
    "                for _ in range(extra_tag):\n",
    "                    print(split_strings)\n",
    "                    last_pos = i.rfind('</{}>'.format(tag))\n",
    "                    split_strings[num] = i[:last_pos] + i[last_pos+3:]\n",
    "                    extra_closed_tag.append((uri, i))\n",
    "            if extra_tag > 0:\n",
    "                for _ in range(extra_tag):\n",
    "                    split_strings[num] = i + '</{}>'.format(tag)\n",
    "    if len(split_strings) == 1:\n",
    "        p = Paragraph(split_strings[0], styles[\"Justify\"])\n",
    "        template.append(p)\n",
    "    else:\n",
    "        for i in split_strings:\n",
    "            if len(i):\n",
    "                p = Paragraph(i, styles[\"Justify\"])\n",
    "                template.append(p)\n",
    "                template.append(Spacer(1,0.2*inch))\n",
    "            else:\n",
    "                pass\n",
    "                print('Empty string: {}'.format(i))\n",
    "    doc.build(template)\n"
   ]
  },
  {
   "cell_type": "code",
   "execution_count": 12,
   "metadata": {
    "collapsed": true
   },
   "outputs": [],
   "source": [
    "# This one prints to screen each step, to nail down when the data error is\n",
    "# Only run this one as 'do_thing_print_fails('25322')\n",
    "#   (E.g., for one item, else it will use all your RAM and freeze your computer)\n",
    "\n",
    "def do_thing_print_fails(uri):\n",
    "    issue = cwbr_dict[uri]\n",
    "    print('a')\n",
    "    doc = SimpleDocTemplate('output/{}.pdf'.format(uri),\n",
    "                           pagesize=letter,\n",
    "                           rightMargin=72,\n",
    "                           leftMargin=72,\n",
    "                           topMargin=72,\n",
    "                           bottomMargin=18)\n",
    "    print('b')\n",
    "    template = []\n",
    "    split_strings = issue.Review.replace('<br>', '<p>').replace('</br>', '</p>').split('<p>')\n",
    "    print('c')\n",
    "    try:\n",
    "        if len(split_strings) == 1:\n",
    "            print('d')\n",
    "            p = Paragraph(split_strings[0], styles[\"Justify\"])\n",
    "            print('e')\n",
    "            template.append(p)\n",
    "            print('f')\n",
    "        else:\n",
    "            print('g')\n",
    "            for i in split_strings:\n",
    "                print('h')\n",
    "                if len(i):\n",
    "                    print('i')\n",
    "                    print(i)\n",
    "                    p = Paragraph(i, styles[\"Justify\"])\n",
    "                    print('j')\n",
    "                    template.append(p)\n",
    "                    print('k')\n",
    "                    template.append(Spacer(1,0.2*inch))\n",
    "                    print('l')\n",
    "                else:\n",
    "                    print('m')\n",
    "                    pass\n",
    "        print('n')\n",
    "        doc.build(template)\n",
    "        print('o')\n",
    "    except:\n",
    "        print('p')"
   ]
  },
  {
   "cell_type": "code",
   "execution_count": 15,
   "metadata": {
    "collapsed": true
   },
   "outputs": [],
   "source": [
    "# this runs all the items in the loaded csv, with logging fails into a list called \"failed\".\n",
    "\n",
    "failed = []\n",
    "\n",
    "for uri in cwbr_dict:\n",
    "    do_thing_log_fails(uri)"
   ]
  },
  {
   "cell_type": "code",
   "execution_count": 16,
   "metadata": {
    "collapsed": false
   },
   "outputs": [
    {
     "name": "stdout",
     "output_type": "stream",
     "text": [
      "29 29 99.0%\n"
     ]
    }
   ],
   "source": [
    "# prints how many failed, how many are in the loaded csv, and what percent failed.\n",
    "\n",
    "print(len(failed),\n",
    "      len(cwbr_dict),\n",
    "      '{}%'.format(len(failed)/len(cwbr_dict)//.01))\n"
   ]
  },
  {
   "cell_type": "code",
   "execution_count": 18,
   "metadata": {
    "collapsed": false,
    "scrolled": true
   },
   "outputs": [
    {
     "name": "stdout",
     "output_type": "stream",
     "text": [
      "29\n",
      "('5737', (<class 'ValueError'>, ValueError('invalid attribute name target attrMap=[\\'backColor\\', \\'backcolor\\', \\'bgcolor\\', \\'color\\', \\'fg\\', \\'fontName\\', \\'fontSize\\', \\'fontname\\', \\'fontsize\\', \\'href\\', \\'name\\', \\'textColor\\', \\'textcolor\\']\\nparagraph text \\'<para><h3><a href=\"audio/MeierInterview.mp3\" target=\"_blank\">Click here for the audio version of the interview</a></h3> <h3><a href=\"http://www.cwbr.com/index.php?q=5729&field=ID&browse=yes&record=full&searching=yes&Submit=Search\">Click here for the review</a></h3> <i><b></i></para>\\' caused exception',), <traceback object at 0x7f1d82e87b88>))\n"
     ]
    }
   ],
   "source": [
    "import sys\n",
    "\n",
    "extra_closed_tag = []\n",
    "parse_error = []\n",
    "\n",
    "for uri in failed:\n",
    "    try:\n",
    "        do_thing_without_exception(uri)\n",
    "    except Exception:\n",
    "        parse_error.append((uri, sys.exc_info()))\n",
    "\n",
    "\n",
    "print(len(failed))\n",
    "if parse_error:\n",
    "    print(parse_error[0])\n",
    "\n",
    "# with open('exception.txt', 'w') as f:\n",
    "#     output_text = ''\n",
    "#     for item in parse_error:\n",
    "#         output_text += '{}\\n'.format(item)\n",
    "#     f.write(output_text)\n",
    "\n"
   ]
  },
  {
   "cell_type": "code",
   "execution_count": 19,
   "metadata": {
    "collapsed": false,
    "scrolled": true
   },
   "outputs": [],
   "source": [
    "# this identifies 3 causes of errors in parsing the data -- and a Leftovers group for items with unknown error\n",
    "\n",
    "Review_starts_with_url = []\n",
    "Review_starts_with_image = []\n",
    "Review_starts_with_header_url = []\n",
    "Leftovers = []\n",
    "Other_breaking_types = ['5738', '6050', '3326', '6176', '5804', '3453', ]\n",
    "\n",
    "\n",
    "for item in parse_error:\n",
    "#     if item[0] in Other_breaking_types:\n",
    "#         continue\n",
    "    if \"<para><a href=\" in item[1][1].args[0]:\n",
    "        Review_starts_with_url.append(item)\n",
    "    elif \"<para><img \" in item[1][1].args[0]:\n",
    "        Review_starts_with_image.append(item)\n",
    "    elif \"<para><h3><a href=\" in item[1][1].args[0]:\n",
    "        Review_starts_with_header_url.append(item)\n",
    "    else:\n",
    "        Leftovers.append(item)"
   ]
  },
  {
   "cell_type": "code",
   "execution_count": 20,
   "metadata": {
    "collapsed": false
   },
   "outputs": [
    {
     "name": "stdout",
     "output_type": "stream",
     "text": [
      "failed: 29 \n",
      " parse_error 29 \n",
      " Review_starts_with_url 0 \n",
      " Review_starts_with_header_url 29 \n",
      " Review_starts_with_image: 0 \n",
      " Remainder 0 \n",
      " Leftovers 0 \n",
      "\n",
      "['4053', '4245', '4327', '4395', '4481', '4566', '4637', '4755', '4827', '4900', '4970', '5041', '5122', '5207', '5284', '5362', '5437', '5512', '5668', '5737', '5801', '5864', '5928', '5986', '6048', '6113', '6173', '6240', '6306']\n"
     ]
    }
   ],
   "source": [
    "# prints the number of items in each category.  You want the numbers to end up \"0\" eventually.\n",
    "\n",
    "print(\"failed:\", len(failed), '\\n',\n",
    "      \"parse_error\", len(parse_error), '\\n',\n",
    "      \"Review_starts_with_url\", len(Review_starts_with_url), '\\n',\n",
    "      \"Review_starts_with_header_url\", len(Review_starts_with_header_url), '\\n',\n",
    "      \"Review_starts_with_image:\", len(Review_starts_with_image), \"\\n\",\n",
    "      \"Remainder\", len(parse_error)-len(Review_starts_with_url)-len(Review_starts_with_header_url), '\\n',\n",
    "      \"Leftovers\", len(Leftovers), '\\n',) \n",
    "\n",
    "print(sorted(failed))"
   ]
  },
  {
   "cell_type": "code",
   "execution_count": 21,
   "metadata": {
    "collapsed": false
   },
   "outputs": [],
   "source": [
    "# this command is useful now for finding the error in each 'nnnn' listed above.  The error is in the last printed line.\n",
    "\n",
    "# do_thing_print_fails('4244')"
   ]
  },
  {
   "cell_type": "code",
   "execution_count": 23,
   "metadata": {
    "collapsed": false,
    "scrolled": true
   },
   "outputs": [
    {
     "name": "stdout",
     "output_type": "stream",
     "text": [
      "{'': 0, 'Classics': 0, 'Annotation': 0, 'Interview': 0, 'Review': 0}\n"
     ]
    }
   ],
   "source": [
    "# to see if all of an error type occur in one Record_type.\n",
    "# replace Review_starts_with_image with whatever error you wish to examine.\n",
    "\n",
    "url_starts = {\"Annotation\": 0, \"Classics\": 0, \"Review\": 0, \"\": 0, \"Interview\": 0}\n",
    "for i in Review_starts_with_image:\n",
    "    url_starts[cwbr_dict[i[0]].Record_type] += 1\n",
    "\n",
    "if Review_starts_with_image:\n",
    "    print(Review_starts_with_image[0])\n",
    "    \n",
    "print(url_starts)\n",
    "    "
   ]
  },
  {
   "cell_type": "code",
   "execution_count": null,
   "metadata": {
    "collapsed": true
   },
   "outputs": [],
   "source": []
  },
  {
   "cell_type": "code",
   "execution_count": null,
   "metadata": {
    "collapsed": false
   },
   "outputs": [],
   "source": []
  },
  {
   "cell_type": "code",
   "execution_count": null,
   "metadata": {
    "collapsed": true
   },
   "outputs": [],
   "source": []
  },
  {
   "cell_type": "code",
   "execution_count": null,
   "metadata": {
    "collapsed": true
   },
   "outputs": [],
   "source": []
  },
  {
   "cell_type": "code",
   "execution_count": null,
   "metadata": {
    "collapsed": true
   },
   "outputs": [],
   "source": []
  },
  {
   "cell_type": "code",
   "execution_count": null,
   "metadata": {
    "collapsed": true
   },
   "outputs": [],
   "source": []
  },
  {
   "cell_type": "code",
   "execution_count": null,
   "metadata": {
    "collapsed": true
   },
   "outputs": [],
   "source": []
  },
  {
   "cell_type": "code",
   "execution_count": null,
   "metadata": {
    "collapsed": true
   },
   "outputs": [],
   "source": []
  },
  {
   "cell_type": "code",
   "execution_count": null,
   "metadata": {
    "collapsed": false
   },
   "outputs": [],
   "source": []
  },
  {
   "cell_type": "code",
   "execution_count": null,
   "metadata": {
    "collapsed": false
   },
   "outputs": [],
   "source": []
  },
  {
   "cell_type": "code",
   "execution_count": null,
   "metadata": {
    "collapsed": true
   },
   "outputs": [],
   "source": []
  }
 ],
 "metadata": {
  "kernelspec": {
   "display_name": "Python 3",
   "language": "python",
   "name": "python3"
  },
  "language_info": {
   "codemirror_mode": {
    "name": "ipython",
    "version": 3
   },
   "file_extension": ".py",
   "mimetype": "text/x-python",
   "name": "python",
   "nbconvert_exporter": "python",
   "pygments_lexer": "ipython3",
   "version": "3.5.2"
  }
 },
 "nbformat": 4,
 "nbformat_minor": 1
}
