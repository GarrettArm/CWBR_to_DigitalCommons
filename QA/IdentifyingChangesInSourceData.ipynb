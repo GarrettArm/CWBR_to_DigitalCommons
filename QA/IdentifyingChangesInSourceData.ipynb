{
 "cells": [
  {
   "cell_type": "code",
   "execution_count": null,
   "metadata": {
    "collapsed": true
   },
   "outputs": [],
   "source": [
    "import os\n",
    "\n",
    "import pandas as pd\n",
    "import numpy as np\n",
    "\n",
    "import unicodedata"
   ]
  },
  {
   "cell_type": "code",
   "execution_count": null,
   "metadata": {
    "collapsed": true
   },
   "outputs": [],
   "source": [
    "def remove_control_characters(s):\n",
    "    return \"\".join(ch for ch in s if unicodedata.category(ch)[0]!=\"C\")"
   ]
  },
  {
   "cell_type": "code",
   "execution_count": null,
   "metadata": {
    "collapsed": true
   },
   "outputs": [],
   "source": [
    "def parse_xls(source_dir):\n",
    "    all_xls_filepaths = [os.path.join(root, file) \n",
    "                         for root, dirs, files in os.walk(source_dir)\n",
    "                         for file in files\n",
    "                         if os.path.splitext(file)[1] == '.xls']\n",
    "    \n",
    "    df = pd.DataFrame()\n",
    "\n",
    "    for xls_file in all_xls_filepaths:\n",
    "        xls = pd.ExcelFile(xls_file)\n",
    "        for sheet in xls.sheet_names:\n",
    "            new_df = xls.parse(sheet)\n",
    "            new_df = new_df.replace(np.nan, '', regex=True)\n",
    "            df = df.append(new_df)\n",
    "            \n",
    "        \n",
    "    return df\n"
   ]
  },
  {
   "cell_type": "code",
   "execution_count": null,
   "metadata": {
    "collapsed": true
   },
   "outputs": [],
   "source": [
    "aaron_edits_dir = '/home/francis/Desktop/CurrentProjects/CWBRuploadRush/AaronsEdits/Mar5CwbrwithTitle/'\n",
    "aaron_df = parse_xls(aaron_edits_dir)"
   ]
  },
  {
   "cell_type": "code",
   "execution_count": null,
   "metadata": {
    "collapsed": true
   },
   "outputs": [],
   "source": [
    "aaron_df.size"
   ]
  },
  {
   "cell_type": "code",
   "execution_count": null,
   "metadata": {
    "collapsed": true
   },
   "outputs": [],
   "source": [
    "tom_edits_dir = '/home/francis/Desktop/CurrentProjects/CWBRuploadRush/Mar5CwbrwithTitle/'\n",
    "tom_df = parse_xls(tom_edits_dir)"
   ]
  },
  {
   "cell_type": "code",
   "execution_count": null,
   "metadata": {
    "collapsed": true
   },
   "outputs": [],
   "source": [
    "tom_df.size"
   ]
  },
  {
   "cell_type": "code",
   "execution_count": null,
   "metadata": {
    "collapsed": true
   },
   "outputs": [],
   "source": [
    "whittle_df = pd.DataFrame.copy(tom_df)"
   ]
  },
  {
   "cell_type": "code",
   "execution_count": null,
   "metadata": {
    "collapsed": true
   },
   "outputs": [],
   "source": [
    "mismatches = []\n",
    "\n",
    "for book_id in aaron_df['book_id']:\n",
    "\n",
    "    aaron_row = aaron_df.loc[aaron_df['book_id'] == book_id]\n",
    "    aaron_row_dict = aaron_row.to_dict()\n",
    "    \n",
    "    tom_row = tom_df.loc[tom_df['book_id'] == book_id]\n",
    "    tom_row_dict = tom_row.to_dict()\n",
    "    \n",
    "    for k, v in aaron_row_dict.items():\n",
    "        if tom_row_dict[k] == v:\n",
    "            continue\n",
    "        else:\n",
    "            mismatches.append((book_id, aaron_row_dict['season'], aaron_row_dict['publication_date'], aaron_row_dict, tom_row_dict))\n",
    "            break\n",
    "\n",
    "for book_id, season, pub_data, aaron_dict, tom_dict in mismatches:\n",
    "    print(\"\\n**{}**\".format((book_id, season, pub_data)))\n",
    "    for k, v in aaron_dict.items():\n",
    "        if tom_dict[k] == v:\n",
    "            continue\n",
    "        print('aaron: {}\\ntom: {}\\n'.format(v, tom_dict[k]))"
   ]
  },
  {
   "cell_type": "code",
   "execution_count": null,
   "metadata": {
    "collapsed": true
   },
   "outputs": [],
   "source": []
  },
  {
   "cell_type": "code",
   "execution_count": null,
   "metadata": {
    "collapsed": true
   },
   "outputs": [],
   "source": []
  }
 ],
 "metadata": {
  "kernelspec": {
   "display_name": "Python 3",
   "language": "python",
   "name": "python3"
  },
  "language_info": {
   "codemirror_mode": {
    "name": "ipython",
    "version": 3
   },
   "file_extension": ".py",
   "mimetype": "text/x-python",
   "name": "python",
   "nbconvert_exporter": "python",
   "pygments_lexer": "ipython3",
   "version": "3.6.4"
  }
 },
 "nbformat": 4,
 "nbformat_minor": 2
}
