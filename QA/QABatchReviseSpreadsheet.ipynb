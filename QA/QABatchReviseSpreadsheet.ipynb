{
 "cells": [
  {
   "cell_type": "code",
   "execution_count": null,
   "metadata": {
    "collapsed": true
   },
   "outputs": [],
   "source": [
    "import pandas as pd\n",
    "import numpy as np"
   ]
  },
  {
   "cell_type": "code",
   "execution_count": null,
   "metadata": {},
   "outputs": [],
   "source": [
    "batch_revise_file = 'ReferenceFIles/cwbr_1.xls_Thu_Mar_22_18_39_42_2018part_1.xls'\n",
    "xls = pd.ExcelFile(batch_revise_file)\n",
    "df = xls.parse(0)"
   ]
  },
  {
   "cell_type": "code",
   "execution_count": null,
   "metadata": {
    "collapsed": true
   },
   "outputs": [],
   "source": [
    "# pub_dates in different issues\n",
    "\n",
    "all_issues = df['issue'].unique()\n",
    "all_pub_date = df['publication_date'].unique()\n",
    "\n",
    "for pub_date in all_pub_date:\n",
    "    these_issues = df[df['publication_date'] == pub_date]\n",
    "    if len(these_issues['issue'].unique()) > 1:\n",
    "        print(pub_date, these_issues['issue'].unique())"
   ]
  },
  {
   "cell_type": "code",
   "execution_count": null,
   "metadata": {},
   "outputs": [],
   "source": [
    "# issues in different pub_dates \n",
    "\n",
    "for issue in all_issues:\n",
    "    these_pub_dates = df[df['issue'] == issue]\n",
    "    if len(these_pub_dates['publication_date'].unique()) > 1:\n",
    "           print(issue, these_pub_dates['publication_date'].unique())"
   ]
  },
  {
   "cell_type": "code",
   "execution_count": null,
   "metadata": {},
   "outputs": [],
   "source": [
    "#items uploaded twice\n",
    "\n",
    "unique_book_ids = set(df['book_id'])\n",
    "\n",
    "for unique_book_id in unique_book_ids:\n",
    "    if len(df[df['book_id'] == unique_book_id]) > 1:\n",
    "        print(df[df['book_id'] == unique_book_id]['issue'].values, \n",
    "              df[df['book_id'] == unique_book_id]['book_id'].values)\n",
    "#         print(df[df['book_id'] == unique_book_id]['title'])"
   ]
  },
  {
   "cell_type": "code",
   "execution_count": null,
   "metadata": {},
   "outputs": [],
   "source": [
    "# rows with no author1_lname\n",
    "\n",
    "print(df[df['author1_lname'].isnull()]['book_id'])\n",
    "print(df[df['author1_lname'].isnull()]['author1_lname'])"
   ]
  },
  {
   "cell_type": "code",
   "execution_count": null,
   "metadata": {},
   "outputs": [],
   "source": [
    "# non-annotations without an abstract\n",
    "\n",
    "missing_abstracts = df[(df['abstract'].isnull()) & (df['document_type'] != 'annotations')]\n",
    "missing_abstracts"
   ]
  },
  {
   "cell_type": "code",
   "execution_count": null,
   "metadata": {},
   "outputs": [],
   "source": [
    "# rows with no book_id\n",
    "\n",
    "df[df['book_id'].isnull()]"
   ]
  },
  {
   "cell_type": "code",
   "execution_count": null,
   "metadata": {
    "collapsed": true
   },
   "outputs": [],
   "source": [
    "# what IDs is the batch revise file missing?\n",
    "\n",
    "id_batch_revise_absent = [i for i in range(1000, 6637)\n",
    "                           if i not in df['book_id'].values]   "
   ]
  },
  {
   "cell_type": "code",
   "execution_count": null,
   "metadata": {
    "collapsed": true
   },
   "outputs": [],
   "source": [
    "id_batch_revise_absent.sort()"
   ]
  },
  {
   "cell_type": "code",
   "execution_count": null,
   "metadata": {},
   "outputs": [],
   "source": [
    "print('[{}]'.format(', '.join(str(i) for i in id_batch_revise_absent)))"
   ]
  },
  {
   "cell_type": "code",
   "execution_count": null,
   "metadata": {},
   "outputs": [],
   "source": [
    "1782 in df['book_id'].values"
   ]
  },
  {
   "cell_type": "code",
   "execution_count": null,
   "metadata": {
    "collapsed": true
   },
   "outputs": [],
   "source": []
  }
 ],
 "metadata": {
  "kernelspec": {
   "display_name": "Python 3",
   "language": "python",
   "name": "python3"
  },
  "language_info": {
   "codemirror_mode": {
    "name": "ipython",
    "version": 3
   },
   "file_extension": ".py",
   "mimetype": "text/x-python",
   "name": "python",
   "nbconvert_exporter": "python",
   "pygments_lexer": "ipython3",
   "version": "3.6.4"
  }
 },
 "nbformat": 4,
 "nbformat_minor": 2
}
